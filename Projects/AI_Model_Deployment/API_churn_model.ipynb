{
 "cells": [
  {
   "cell_type": "code",
   "execution_count": null,
   "id": "a32c5867",
   "metadata": {},
   "outputs": [
    {
     "name": "stdout",
     "output_type": "stream",
     "text": [
      "📥 Loading churn dataset...\n",
      "🧹 Cleaning and preprocessing data...\n",
      "✅ Features prepared. Proceeding to split...\n",
      "🚀 Training XGBoost model...\n",
      "📊 Evaluating model...\n",
      "🎯 Accuracy: 0.7790\n",
      "📝 Logging model and metrics to MLflow...\n"
     ]
    },
    {
     "name": "stderr",
     "output_type": "stream",
     "text": [
      "d:\\pyenv\\pyenv-win\\versions\\3.12.3\\Lib\\site-packages\\mlflow\\types\\utils.py:452: UserWarning: Hint: Inferred schema contains integer column(s). Integer columns in Python cannot represent missing values. If your input data contains missing values at inference time, it will be encoded as floats and will cause a schema enforcement error. The best way to avoid this problem is to infer the model schema based on a realistic data sample (training dataset) that includes missing values. Alternatively, you can declare integer columns as doubles (float64) whenever these columns may have missing values. See `Handling Integers With Missing Values <https://www.mlflow.org/docs/latest/models.html#handling-integers-with-missing-values>`_ for more details.\n",
      "  warnings.warn(\n",
      "d:\\pyenv\\pyenv-win\\versions\\3.12.3\\Lib\\site-packages\\mlflow\\types\\utils.py:452: UserWarning: Hint: Inferred schema contains integer column(s). Integer columns in Python cannot represent missing values. If your input data contains missing values at inference time, it will be encoded as floats and will cause a schema enforcement error. The best way to avoid this problem is to infer the model schema based on a realistic data sample (training dataset) that includes missing values. Alternatively, you can declare integer columns as doubles (float64) whenever these columns may have missing values. See `Handling Integers With Missing Values <https://www.mlflow.org/docs/latest/models.html#handling-integers-with-missing-values>`_ for more details.\n",
      "  warnings.warn(\n",
      "d:\\pyenv\\pyenv-win\\versions\\3.12.3\\Lib\\site-packages\\xgboost\\sklearn.py:1028: UserWarning: [07:26:54] WARNING: C:\\actions-runner\\_work\\xgboost\\xgboost\\src\\c_api\\c_api.cc:1427: Saving model in the UBJSON format as default.  You can use file extension: `json`, `ubj` or `deprecated` to choose between formats.\n",
      "  self.get_booster().save_model(fname)\n"
     ]
    },
    {
     "name": "stdout",
     "output_type": "stream",
     "text": [
      "✅ Model logged to MLflow successfully.\n"
     ]
    }
   ],
   "source": [
    "import pandas as pd\n",
    "from sklearn.model_selection import train_test_split\n",
    "from sklearn.linear_model import LogisticRegression\n",
    "from sklearn.metrics import accuracy_score\n",
    "import mlflow\n",
    "import mlflow.sklearn\n",
    "\n",
    "def load_data():\n",
    "    print(\"📥 Loading churn dataset...\")\n",
    "    df = pd.read_csv(r'D:\\Github_Share\\Dataset\\WA_Fn-UseC_-Telco-Customer-Churn.csv')\n",
    "\n",
    "    print(\"🧹 Cleaning and preprocessing data...\")\n",
    "    df = df[df[\"TotalCharges\"].str.strip() != \"\"]\n",
    "    df[\"TotalCharges\"] = pd.to_numeric(df[\"TotalCharges\"])\n",
    "    df.drop([\"customerID\"], axis=1, inplace=True)\n",
    "    df[\"Churn\"] = df[\"Churn\"].map({\"Yes\": 1, \"No\": 0})\n",
    "    df = pd.get_dummies(df)\n",
    "\n",
    "    selected_features = [\n",
    "        \"tenure\",\n",
    "        \"MonthlyCharges\",\n",
    "        \"TotalCharges\",\n",
    "        \"Contract_Month-to-month\",\n",
    "        \"InternetService_Fiber optic\",\n",
    "        \"TechSupport_No\",\n",
    "        \"OnlineSecurity_No\",\n",
    "        \"PaymentMethod_Electronic check\"\n",
    "    ]\n",
    "\n",
    "    for col in selected_features:\n",
    "        if col not in df.columns:\n",
    "            df[col] = 0\n",
    "\n",
    "    X = df[selected_features]\n",
    "    y = df[\"Churn\"]\n",
    "\n",
    "    print(\"✅ Features prepared. Proceeding to split...\")\n",
    "    return train_test_split(X, y, test_size=0.2, random_state=42)\n",
    "\n",
    "def train_and_log():\n",
    "    X_train, X_test, y_train, y_test = load_data()\n",
    "\n",
    "    print(\"🚀 Training Logistic Regression model...\")\n",
    "    model = LogisticRegression(max_iter=1000)\n",
    "    model.fit(X_train, y_train)\n",
    "\n",
    "    print(\"📊 Evaluating model...\")\n",
    "    y_pred = model.predict(X_test)\n",
    "    acc = accuracy_score(y_test, y_pred)\n",
    "    print(f\"🎯 Accuracy: {acc:.4f}\")\n",
    "\n",
    "    print(\"📝 Logging model and metrics to MLflow...\")\n",
    "    mlflow.set_experiment(\"Churn-Prediction-LogisticRegression\")\n",
    "    input_example = X_test.iloc[:1]\n",
    "\n",
    "    with mlflow.start_run():\n",
    "        mlflow.sklearn.log_model(model, \"model\", input_example=input_example)\n",
    "        mlflow.log_metric(\"accuracy\", acc)\n",
    "        mlflow.log_params(model.get_params())\n",
    "        print(\"✅ Model logged to MLflow successfully.\")\n",
    "\n",
    "if __name__ == \"__main__\":\n",
    "    train_and_log()"
   ]
  },
  {
   "cell_type": "code",
   "execution_count": null,
   "id": "10add7b5",
   "metadata": {},
   "outputs": [],
   "source": []
  }
 ],
 "metadata": {
  "kernelspec": {
   "display_name": "3.12.3",
   "language": "python",
   "name": "python3"
  },
  "language_info": {
   "codemirror_mode": {
    "name": "ipython",
    "version": 3
   },
   "file_extension": ".py",
   "mimetype": "text/x-python",
   "name": "python",
   "nbconvert_exporter": "python",
   "pygments_lexer": "ipython3",
   "version": "3.12.3"
  }
 },
 "nbformat": 4,
 "nbformat_minor": 5
}
