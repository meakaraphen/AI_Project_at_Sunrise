{
 "cells": [
  {
   "cell_type": "code",
   "execution_count": 13,
   "id": "a32c5867",
   "metadata": {},
   "outputs": [
    {
     "name": "stdout",
     "output_type": "stream",
     "text": [
      "📥 Loading churn dataset...\n",
      "🧹 Cleaning and preprocessing data...\n",
      "✅ Features prepared. Proceeding to split...\n",
      "🚀 Training Logistic Regression model...\n",
      "📊 Evaluating model...\n",
      "🎯 Accuracy: 0.7903\n",
      "Feature columns used for model training: ['tenure', 'MonthlyCharges', 'TotalCharges', 'Contract_Month-to-month', 'InternetService_Fiber optic', 'TechSupport_No', 'OnlineSecurity_No', 'PaymentMethod_Electronic check']\n"
     ]
    }
   ],
   "source": [
    "import pandas as pd\n",
    "from sklearn.model_selection import train_test_split\n",
    "from sklearn.linear_model import LogisticRegression\n",
    "from sklearn.metrics import accuracy_score\n",
    "import joblib\n",
    "\n",
    "def load_data():\n",
    "    print(\"📥 Loading churn dataset...\")\n",
    "    df = pd.read_csv(r'D:\\Github_Share\\Dataset\\WA_Fn-UseC_-Telco-Customer-Churn.csv')\n",
    "\n",
    "    print(\"🧹 Cleaning and preprocessing data...\")\n",
    "    df = df[df[\"TotalCharges\"].str.strip() != \"\"]\n",
    "    df[\"TotalCharges\"] = pd.to_numeric(df[\"TotalCharges\"])\n",
    "    df.drop([\"customerID\"], axis=1, inplace=True)\n",
    "    df[\"Churn\"] = df[\"Churn\"].map({\"Yes\": 1, \"No\": 0})\n",
    "    df = pd.get_dummies(df)\n",
    "\n",
    "    selected_features = [\n",
    "        \"tenure\",\n",
    "        \"MonthlyCharges\",\n",
    "        \"TotalCharges\",\n",
    "        \"Contract_Month-to-month\",\n",
    "        \"InternetService_Fiber optic\",\n",
    "        \"TechSupport_No\",\n",
    "        \"OnlineSecurity_No\",\n",
    "        \"PaymentMethod_Electronic check\"\n",
    "    ]\n",
    "\n",
    "    for col in selected_features:\n",
    "        if col not in df.columns:\n",
    "            df[col] = 0\n",
    "\n",
    "    X = df[selected_features]\n",
    "    y = df[\"Churn\"]\n",
    "\n",
    "    print(\"✅ Features prepared. Proceeding to split...\")\n",
    "    return train_test_split(X, y, test_size=0.2, random_state=42)\n",
    "\n",
    "def train_and_evaluate():\n",
    "    X_train, X_test, y_train, y_test = load_data()\n",
    "\n",
    "    print(\"🚀 Training Logistic Regression model...\")\n",
    "    model = LogisticRegression(max_iter=1000)\n",
    "    model.fit(X_train, y_train)\n",
    "\n",
    "    print(\"📊 Evaluating model...\")\n",
    "    y_pred = model.predict(X_test)\n",
    "    acc = accuracy_score(y_test, y_pred)\n",
    "    print(f\"🎯 Accuracy: {acc:.4f}\")\n",
    "\n",
    "    # Save the trained model\n",
    "    #joblib.dump(model, \"api_churn_model.pkl\")\n",
    "    #print(\"💾 Model saved as api_churn_model.pkl\")\n",
    "    print(\"Feature columns used for model training:\", X_train.columns.tolist())\n",
    "\n",
    "\n",
    "if __name__ == \"__main__\":\n",
    "    train_and_evaluate()\n"
   ]
  },
  {
   "cell_type": "code",
   "execution_count": null,
   "id": "10add7b5",
   "metadata": {},
   "outputs": [
    {
     "ename": "NameError",
     "evalue": "name 'X_train' is not defined",
     "output_type": "error",
     "traceback": [
      "\u001b[31m---------------------------------------------------------------------------\u001b[39m",
      "\u001b[31mNameError\u001b[39m                                 Traceback (most recent call last)",
      "\u001b[36mCell\u001b[39m\u001b[36m \u001b[39m\u001b[32mIn[12]\u001b[39m\u001b[32m, line 1\u001b[39m\n\u001b[32m----> \u001b[39m\u001b[32m1\u001b[39m \u001b[38;5;28mprint\u001b[39m(\u001b[33m\"\u001b[39m\u001b[33mFeature columns used for model training:\u001b[39m\u001b[33m\"\u001b[39m, \u001b[43mX_train\u001b[49m.columns.tolist())\n",
      "\u001b[31mNameError\u001b[39m: name 'X_train' is not defined"
     ]
    }
   ],
   "source": []
  },
  {
   "cell_type": "code",
   "execution_count": null,
   "id": "8bb3d3fc",
   "metadata": {},
   "outputs": [],
   "source": []
  }
 ],
 "metadata": {
  "kernelspec": {
   "display_name": "3.12.3",
   "language": "python",
   "name": "python3"
  },
  "language_info": {
   "codemirror_mode": {
    "name": "ipython",
    "version": 3
   },
   "file_extension": ".py",
   "mimetype": "text/x-python",
   "name": "python",
   "nbconvert_exporter": "python",
   "pygments_lexer": "ipython3",
   "version": "3.12.3"
  }
 },
 "nbformat": 4,
 "nbformat_minor": 5
}
