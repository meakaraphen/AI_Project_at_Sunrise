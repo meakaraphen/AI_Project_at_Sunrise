{
 "cells": [
  {
   "cell_type": "code",
   "execution_count": 1,
   "id": "d46e5523",
   "metadata": {},
   "outputs": [],
   "source": [
    "# Loan Default Prediction\n",
    "# Step 1: Import Libraries\n",
    "import pandas as pd\n",
    "import numpy as np\n",
    "import matplotlib.pyplot as plt\n",
    "import seaborn as sns\n",
    "from sklearn.preprocessing import StandardScaler\n",
    "from sklearn.metrics import accuracy_score, classification_report, confusion_matrix\n",
    "from sklearn.pipeline import Pipeline\n",
    "from sklearn.compose import ColumnTransformer\n"
   ]
  },
  {
   "cell_type": "code",
   "execution_count": 2,
   "id": "006adf67",
   "metadata": {},
   "outputs": [
    {
     "name": "stdout",
     "output_type": "stream",
     "text": [
      "\n",
      "Dataset Loaded Successfully!\n",
      "\n"
     ]
    },
    {
     "data": {
      "text/html": [
       "<div>\n",
       "<style scoped>\n",
       "    .dataframe tbody tr th:only-of-type {\n",
       "        vertical-align: middle;\n",
       "    }\n",
       "\n",
       "    .dataframe tbody tr th {\n",
       "        vertical-align: top;\n",
       "    }\n",
       "\n",
       "    .dataframe thead th {\n",
       "        text-align: right;\n",
       "    }\n",
       "</style>\n",
       "<table border=\"1\" class=\"dataframe\">\n",
       "  <thead>\n",
       "    <tr style=\"text-align: right;\">\n",
       "      <th></th>\n",
       "      <th>Customer_ID</th>\n",
       "      <th>Age</th>\n",
       "      <th>Gender</th>\n",
       "      <th>Employment_Type</th>\n",
       "      <th>Monthly_Income</th>\n",
       "      <th>Loan_Amount</th>\n",
       "      <th>Loan_Term_Months</th>\n",
       "      <th>Credit_Score</th>\n",
       "      <th>Existing_Loans_Count</th>\n",
       "      <th>Previous_Default</th>\n",
       "      <th>EMI_Burden</th>\n",
       "      <th>Default</th>\n",
       "      <th>Loan_Date</th>\n",
       "      <th>Loan_Year</th>\n",
       "    </tr>\n",
       "  </thead>\n",
       "  <tbody>\n",
       "    <tr>\n",
       "      <th>0</th>\n",
       "      <td>CUST1000</td>\n",
       "      <td>59</td>\n",
       "      <td>Male</td>\n",
       "      <td>Non-Government</td>\n",
       "      <td>65393</td>\n",
       "      <td>348512</td>\n",
       "      <td>12</td>\n",
       "      <td>462</td>\n",
       "      <td>1</td>\n",
       "      <td>1</td>\n",
       "      <td>18376</td>\n",
       "      <td>1</td>\n",
       "      <td>2022-11-17 04:54:13.089070</td>\n",
       "      <td>2022</td>\n",
       "    </tr>\n",
       "    <tr>\n",
       "      <th>1</th>\n",
       "      <td>CUST1001</td>\n",
       "      <td>49</td>\n",
       "      <td>Male</td>\n",
       "      <td>Non-Government</td>\n",
       "      <td>148013</td>\n",
       "      <td>712143</td>\n",
       "      <td>12</td>\n",
       "      <td>823</td>\n",
       "      <td>3</td>\n",
       "      <td>0</td>\n",
       "      <td>8588</td>\n",
       "      <td>0</td>\n",
       "      <td>2024-01-06 04:54:13.089070</td>\n",
       "      <td>2024</td>\n",
       "    </tr>\n",
       "    <tr>\n",
       "      <th>2</th>\n",
       "      <td>CUST1002</td>\n",
       "      <td>35</td>\n",
       "      <td>Female</td>\n",
       "      <td>Non-Government</td>\n",
       "      <td>35934</td>\n",
       "      <td>616202</td>\n",
       "      <td>48</td>\n",
       "      <td>570</td>\n",
       "      <td>4</td>\n",
       "      <td>0</td>\n",
       "      <td>27000</td>\n",
       "      <td>0</td>\n",
       "      <td>2022-06-07 04:54:13.089070</td>\n",
       "      <td>2022</td>\n",
       "    </tr>\n",
       "    <tr>\n",
       "      <th>3</th>\n",
       "      <td>CUST1003</td>\n",
       "      <td>63</td>\n",
       "      <td>Male</td>\n",
       "      <td>Government</td>\n",
       "      <td>85745</td>\n",
       "      <td>251579</td>\n",
       "      <td>36</td>\n",
       "      <td>791</td>\n",
       "      <td>4</td>\n",
       "      <td>0</td>\n",
       "      <td>8304</td>\n",
       "      <td>0</td>\n",
       "      <td>2022-12-24 04:54:13.089070</td>\n",
       "      <td>2022</td>\n",
       "    </tr>\n",
       "    <tr>\n",
       "      <th>4</th>\n",
       "      <td>CUST1004</td>\n",
       "      <td>28</td>\n",
       "      <td>Female</td>\n",
       "      <td>Non-Government</td>\n",
       "      <td>104456</td>\n",
       "      <td>702026</td>\n",
       "      <td>60</td>\n",
       "      <td>507</td>\n",
       "      <td>1</td>\n",
       "      <td>0</td>\n",
       "      <td>9345</td>\n",
       "      <td>0</td>\n",
       "      <td>2023-08-31 04:54:13.089070</td>\n",
       "      <td>2023</td>\n",
       "    </tr>\n",
       "  </tbody>\n",
       "</table>\n",
       "</div>"
      ],
      "text/plain": [
       "  Customer_ID  Age  Gender Employment_Type  Monthly_Income  Loan_Amount  \\\n",
       "0    CUST1000   59    Male  Non-Government           65393       348512   \n",
       "1    CUST1001   49    Male  Non-Government          148013       712143   \n",
       "2    CUST1002   35  Female  Non-Government           35934       616202   \n",
       "3    CUST1003   63    Male      Government           85745       251579   \n",
       "4    CUST1004   28  Female  Non-Government          104456       702026   \n",
       "\n",
       "   Loan_Term_Months  Credit_Score  Existing_Loans_Count  Previous_Default  \\\n",
       "0                12           462                     1                 1   \n",
       "1                12           823                     3                 0   \n",
       "2                48           570                     4                 0   \n",
       "3                36           791                     4                 0   \n",
       "4                60           507                     1                 0   \n",
       "\n",
       "   EMI_Burden  Default                   Loan_Date  Loan_Year  \n",
       "0       18376        1  2022-11-17 04:54:13.089070       2022  \n",
       "1        8588        0  2024-01-06 04:54:13.089070       2024  \n",
       "2       27000        0  2022-06-07 04:54:13.089070       2022  \n",
       "3        8304        0  2022-12-24 04:54:13.089070       2022  \n",
       "4        9345        0  2023-08-31 04:54:13.089070       2023  "
      ]
     },
     "execution_count": 2,
     "metadata": {},
     "output_type": "execute_result"
    }
   ],
   "source": [
    "# Step 2: Load Dataset\n",
    "df = pd.read_csv(r'D:\\Github_Share\\Dataset\\ameen_dataset.csv')\n",
    "print(\"\\nDataset Loaded Successfully!\\n\")\n",
    "df.head()"
   ]
  },
  {
   "cell_type": "code",
   "execution_count": 3,
   "id": "8c198378",
   "metadata": {},
   "outputs": [
    {
     "name": "stdout",
     "output_type": "stream",
     "text": [
      "<class 'pandas.core.frame.DataFrame'>\n",
      "RangeIndex: 300 entries, 0 to 299\n",
      "Data columns (total 14 columns):\n",
      " #   Column                Non-Null Count  Dtype \n",
      "---  ------                --------------  ----- \n",
      " 0   Customer_ID           300 non-null    object\n",
      " 1   Age                   300 non-null    int64 \n",
      " 2   Gender                300 non-null    object\n",
      " 3   Employment_Type       300 non-null    object\n",
      " 4   Monthly_Income        300 non-null    int64 \n",
      " 5   Loan_Amount           300 non-null    int64 \n",
      " 6   Loan_Term_Months      300 non-null    int64 \n",
      " 7   Credit_Score          300 non-null    int64 \n",
      " 8   Existing_Loans_Count  300 non-null    int64 \n",
      " 9   Previous_Default      300 non-null    int64 \n",
      " 10  EMI_Burden            300 non-null    int64 \n",
      " 11  Default               300 non-null    int64 \n",
      " 12  Loan_Date             300 non-null    object\n",
      " 13  Loan_Year             300 non-null    int64 \n",
      "dtypes: int64(10), object(4)\n",
      "memory usage: 32.9+ KB\n"
     ]
    }
   ],
   "source": [
    "df.info()"
   ]
  },
  {
   "cell_type": "code",
   "execution_count": 4,
   "id": "891122cb",
   "metadata": {},
   "outputs": [
    {
     "name": "stdout",
     "output_type": "stream",
     "text": [
      "Highly correlated pairs (above threshold):\n",
      "\n",
      "Recommended columns to drop:\n",
      "set()\n"
     ]
    }
   ],
   "source": [
    "from df_find_highly_correlated_columns import find_highly_correlated_columns\n",
    "\n",
    "# Prepare data\n",
    "numeric_df = df.select_dtypes(include='number')\n",
    "\n",
    "# Find correlated columns\n",
    "to_drop, high_corr_pairs = find_highly_correlated_columns(numeric_df,0.80)\n",
    "\n",
    "# Output results\n",
    "print(\"Highly correlated pairs (above threshold):\")\n",
    "for pair in high_corr_pairs:\n",
    "    print(pair)\n",
    "\n",
    "print(\"\\nRecommended columns to drop:\")\n",
    "print(to_drop)\n"
   ]
  },
  {
   "cell_type": "code",
   "execution_count": 5,
   "id": "1339c6a7",
   "metadata": {},
   "outputs": [
    {
     "name": "stdout",
     "output_type": "stream",
     "text": [
      "\n",
      "Columns to drop due to low variance:\n",
      "[]\n",
      "\n",
      "Columns to drop due to high cardinality:\n",
      "['Customer_ID']\n",
      "\n",
      "Columns to drop due to redundant:\n",
      "[]\n",
      "\n",
      "Columns to drop due to low predictive value:\n",
      "['Gender', 'Employment_Type']\n"
     ]
    }
   ],
   "source": [
    "from df_find_categorical_columns_to_drop import find_categorical_columns_to_drop\n",
    "\n",
    "drop_suggestions = find_categorical_columns_to_drop(df, target_col='Default')\n",
    "\n",
    "# Print the results\n",
    "for reason, cols in drop_suggestions.items():\n",
    "    print(f\"\\nColumns to drop due to {reason.replace('_', ' ')}:\")\n",
    "    print(cols)\n"
   ]
  },
  {
   "cell_type": "code",
   "execution_count": 6,
   "id": "cd92eac2",
   "metadata": {},
   "outputs": [
    {
     "name": "stdout",
     "output_type": "stream",
     "text": [
      "Yes/No Columns: ['Previous_Default']\n",
      "Categorical Columns: ['Loan_Year']\n",
      "Numerical Columns: ['Age', 'Monthly_Income', 'Loan_Amount', 'Loan_Term_Months', 'Credit_Score', 'Existing_Loans_Count', 'EMI_Burden']\n"
     ]
    }
   ],
   "source": [
    "# Step 4: Data Preprocessing\n",
    "# # Define features, target column and categories\n",
    "target = 'Default'\n",
    "yes_no_columns = []\n",
    "cat_columns = []\n",
    "num_columns = []\n",
    "columns_to_drop = ['Customer_ID','Gender', 'Employment_Type','Loan_Date']\n",
    "\n",
    "# Classify columns\n",
    "for column in df.columns:\n",
    "    if column == target:\n",
    "        continue\n",
    "    elif column in columns_to_drop:\n",
    "        continue\n",
    "    elif df[column].nunique() == 2:  # Check if the column has exactly 2 unique values\n",
    "        yes_no_columns.append(column)\n",
    "    elif df[column].nunique() <= 4:  # Check if the column has 4 or fewer unique values\n",
    "        cat_columns.append(column)\n",
    "    else:\n",
    "        num_columns.append(column)\n",
    "\n",
    "# Print the results\n",
    "print(\"Yes/No Columns:\", yes_no_columns)\n",
    "print(\"Categorical Columns:\", cat_columns)\n",
    "print(\"Numerical Columns:\", num_columns)"
   ]
  },
  {
   "cell_type": "code",
   "execution_count": 7,
   "id": "606e94b2",
   "metadata": {},
   "outputs": [],
   "source": [
    "\n",
    "from sklearn.impute import SimpleImputer\n",
    "from sklearn.preprocessing import StandardScaler, OneHotEncoder, OrdinalEncoder, FunctionTransformer\n",
    "\n",
    "# Numeric pipeline: Impute missing values and scale\n",
    "numeric_transformer = Pipeline(steps=[\n",
    "    ('imputer', SimpleImputer(strategy='mean')), \n",
    "    ('scaler', StandardScaler())                \n",
    "])\n",
    "categorical_transformer = Pipeline(steps=[\n",
    "    ('imputer', SimpleImputer(strategy='most_frequent')),  # Replace missing with mode\n",
    "    ('encoder', OneHotEncoder())    # One-hot encode categories\n",
    "])\n",
    "yes_no_transformer = Pipeline(steps=[\n",
    "    ('imputer', SimpleImputer(strategy='most_frequent')),  # Replace missing with mode\n",
    "    ('Ordinal', OrdinalEncoder())    # Ordinal categories\n",
    "])\n"
   ]
  },
  {
   "cell_type": "code",
   "execution_count": 8,
   "id": "10e2f948",
   "metadata": {},
   "outputs": [],
   "source": [
    "preprocessor = ColumnTransformer(transformers=[\n",
    "    ('num', numeric_transformer, num_columns),\n",
    "    ('cat', categorical_transformer, cat_columns),\n",
    "    ('yes_no',yes_no_transformer,yes_no_columns)\n",
    "])"
   ]
  },
  {
   "cell_type": "code",
   "execution_count": 9,
   "id": "11255ce9",
   "metadata": {},
   "outputs": [],
   "source": [
    "def drop_columns(X):\n",
    "    return X.drop(columns =columns_to_drop)"
   ]
  },
  {
   "cell_type": "code",
   "execution_count": 10,
   "id": "e299f9dc",
   "metadata": {},
   "outputs": [],
   "source": [
    "# Feature Scaling\n",
    "x=df.drop(columns=target)\n",
    "y=df[target]\n",
    "x_transformed = preprocessor.fit_transform(x)"
   ]
  },
  {
   "cell_type": "code",
   "execution_count": 11,
   "id": "3645c211",
   "metadata": {},
   "outputs": [],
   "source": [
    "from sklearn.model_selection import train_test_split"
   ]
  },
  {
   "cell_type": "code",
   "execution_count": 12,
   "id": "999693bb",
   "metadata": {},
   "outputs": [],
   "source": [
    "# Split dataset\n",
    "x_train, x_test, y_train, y_test = train_test_split(x_transformed, y, test_size=0.2, random_state=42)"
   ]
  },
  {
   "cell_type": "markdown",
   "id": "998bd78a",
   "metadata": {},
   "source": [
    "# Logistic Regression Model"
   ]
  },
  {
   "cell_type": "code",
   "execution_count": 13,
   "id": "9c2c5f02",
   "metadata": {},
   "outputs": [
    {
     "name": "stdout",
     "output_type": "stream",
     "text": [
      "\n",
      "🔹 Logistic Regression Report:\n",
      "Accuracy: 0.9\n",
      "\n",
      "Classification Report:\n",
      "               precision    recall  f1-score   support\n",
      "\n",
      "           0       0.94      0.94      0.94        49\n",
      "           1       0.73      0.73      0.73        11\n",
      "\n",
      "    accuracy                           0.90        60\n",
      "   macro avg       0.83      0.83      0.83        60\n",
      "weighted avg       0.90      0.90      0.90        60\n",
      "\n",
      "Confusion Matrix:\n",
      " [[46  3]\n",
      " [ 3  8]]\n"
     ]
    }
   ],
   "source": [
    "from sklearn.linear_model import LogisticRegression\n",
    "# --- Logistic Regression ---\n",
    "log_model = LogisticRegression()\n",
    "log_model.fit(x_train, y_train)\n",
    "y_pred_log = log_model.predict(x_test)\n",
    "\n",
    "print(\"\\n🔹 Logistic Regression Report:\")\n",
    "print(\"Accuracy:\", accuracy_score(y_test, y_pred_log))\n",
    "print(\"\\nClassification Report:\\n\", classification_report(y_test, y_pred_log))\n",
    "print(\"Confusion Matrix:\\n\", confusion_matrix(y_test, y_pred_log))\n"
   ]
  },
  {
   "cell_type": "code",
   "execution_count": 14,
   "id": "26618bb7",
   "metadata": {},
   "outputs": [
    {
     "name": "stdout",
     "output_type": "stream",
     "text": [
      "✅ Model saved to 'models\\logistic_model.pkl'\n"
     ]
    }
   ],
   "source": [
    "# Save model to file\n",
    "import joblib\n",
    "filename = r'models\\logistic_model.pkl'\n",
    "joblib.dump(log_model, filename)\n",
    "print(f\"✅ Model saved to '{filename}'\")"
   ]
  },
  {
   "cell_type": "markdown",
   "id": "3c09a0a1",
   "metadata": {},
   "source": [
    "# Support Vector Machine (SVM) Model"
   ]
  },
  {
   "cell_type": "code",
   "execution_count": 15,
   "id": "ea747f4b",
   "metadata": {},
   "outputs": [
    {
     "name": "stdout",
     "output_type": "stream",
     "text": [
      "\n",
      "🔹 SVM Report:\n",
      "Accuracy: 0.9\n",
      "\n",
      "Classification Report:\n",
      "               precision    recall  f1-score   support\n",
      "\n",
      "           0       0.92      0.96      0.94        49\n",
      "           1       0.78      0.64      0.70        11\n",
      "\n",
      "    accuracy                           0.90        60\n",
      "   macro avg       0.85      0.80      0.82        60\n",
      "weighted avg       0.90      0.90      0.90        60\n",
      "\n",
      "Confusion Matrix:\n",
      " [[47  2]\n",
      " [ 4  7]]\n"
     ]
    }
   ],
   "source": [
    "from sklearn.svm import SVC\n",
    "\n",
    "# --- Support Vector Machine (SVM) ---\n",
    "svm_model = SVC(kernel='rbf', C=1.0, gamma='scale')  # You can adjust kernel/C/gamma\n",
    "svm_model.fit(x_train, y_train)\n",
    "y_pred_svm = svm_model.predict(x_test)\n",
    "\n",
    "print(\"\\n🔹 SVM Report:\")\n",
    "print(\"Accuracy:\", accuracy_score(y_test, y_pred_svm))\n",
    "print(\"\\nClassification Report:\\n\", classification_report(y_test, y_pred_svm))\n",
    "print(\"Confusion Matrix:\\n\", confusion_matrix(y_test, y_pred_svm))\n"
   ]
  },
  {
   "cell_type": "code",
   "execution_count": 16,
   "id": "3276f929",
   "metadata": {},
   "outputs": [
    {
     "name": "stdout",
     "output_type": "stream",
     "text": [
      "✅ Model saved to 'models\\svm_model.pkl'\n"
     ]
    }
   ],
   "source": [
    "# Save model to file\n",
    "import joblib\n",
    "filename = r'models\\svm_model.pkl'\n",
    "joblib.dump(svm_model, filename)\n",
    "print(f\"✅ Model saved to '{filename}'\")"
   ]
  },
  {
   "cell_type": "markdown",
   "id": "ceb34778",
   "metadata": {},
   "source": [
    "# Random Forests Model"
   ]
  },
  {
   "cell_type": "code",
   "execution_count": 17,
   "id": "7f510f8c",
   "metadata": {},
   "outputs": [
    {
     "name": "stdout",
     "output_type": "stream",
     "text": [
      "\n",
      "🌲 Random Forest Report:\n",
      "Mean Absolute Error: 0.01966666666666667\n",
      "Mean Squared Error: 0.0026833333333333336\n",
      "Root Mean Squared Error: 0.05180090089306685\n",
      "R² Score: 0.9820779220779221\n"
     ]
    }
   ],
   "source": [
    "# Import necessary libraries\n",
    "from sklearn.ensemble import RandomForestRegressor\n",
    "from sklearn.metrics import mean_absolute_error, mean_squared_error, r2_score\n",
    "\n",
    "# Initialize and train the Random Forest model\n",
    "rf_model = RandomForestRegressor(n_estimators=100, random_state=42)\n",
    "rf_model.fit(x_train, y_train)\n",
    "\n",
    "# Make predictions\n",
    "y_pred_rf = rf_model.predict(x_test)\n",
    "\n",
    "# Evaluate the model\n",
    "mae = mean_absolute_error(y_test, y_pred_rf)\n",
    "mse = mean_squared_error(y_test, y_pred_rf)\n",
    "rmse = np.sqrt(mse)\n",
    "score=r2_score(y_test, y_pred_rf)\n",
    "\n",
    "print(\"\\n🌲 Random Forest Report:\")\n",
    "print(f'Mean Absolute Error: {mae}')\n",
    "print(f'Mean Squared Error: {mse}')\n",
    "print(f'Root Mean Squared Error: {rmse}')\n",
    "print(f'R² Score: {score}')"
   ]
  },
  {
   "cell_type": "code",
   "execution_count": 18,
   "id": "9f4422f1",
   "metadata": {},
   "outputs": [
    {
     "name": "stdout",
     "output_type": "stream",
     "text": [
      "✅ Model saved to 'models\\rf_model.pkl'\n"
     ]
    }
   ],
   "source": [
    "# Save model to file\n",
    "import joblib\n",
    "filename = r'models\\rf_model.pkl'\n",
    "joblib.dump(rf_model, filename)\n",
    "print(f\"✅ Model saved to '{filename}'\")"
   ]
  },
  {
   "cell_type": "markdown",
   "id": "8029d8ab",
   "metadata": {},
   "source": [
    "# Run All 3 Models with Logging"
   ]
  },
  {
   "cell_type": "code",
   "execution_count": 21,
   "id": "d7a7a508",
   "metadata": {},
   "outputs": [
    {
     "name": "stderr",
     "output_type": "stream",
     "text": [
      "2025/05/15 11:42:14 WARNING mlflow.models.model: Model logged without a signature and input example. Please set `input_example` parameter when logging the model to auto infer the model signature.\n",
      "2025/05/15 11:42:14 WARNING mlflow.models.model: Model logged without a signature and input example. Please set `input_example` parameter when logging the model to auto infer the model signature.\n",
      "2025/05/15 11:42:15 WARNING mlflow.models.model: Model logged without a signature and input example. Please set `input_example` parameter when logging the model to auto infer the model signature.\n"
     ]
    },
    {
     "name": "stdout",
     "output_type": "stream",
     "text": [
      "[SVM] Model logged to MLflow.\n",
      "[Logistic Regression] Model logged to MLflow.\n",
      "🏃 View run SVM at: http://127.0.0.1:5000/#/experiments/273882292182050785/runs/32d3bd1b80db44f5a4b44c11a45cc92b\n",
      "🧪 View experiment at: http://127.0.0.1:5000/#/experiments/273882292182050785\n",
      "🏃 View run Logistic Regression at: http://127.0.0.1:5000/#/experiments/273882292182050785/runs/2c264bec92f44b90949e7f615f0a30c7\n",
      "🧪 View experiment at: http://127.0.0.1:5000/#/experiments/273882292182050785\n",
      "[Random Forest] Model logged to MLflow.\n",
      "🏃 View run Random Forest at: http://127.0.0.1:5000/#/experiments/273882292182050785/runs/d930e903ea404eb7abf3257e745ca220\n",
      "🧪 View experiment at: http://127.0.0.1:5000/#/experiments/273882292182050785\n"
     ]
    }
   ],
   "source": [
    "import mlflow\n",
    "import mlflow.sklearn\n",
    "import joblib\n",
    "import threading\n",
    "\n",
    "# Set MLflow tracking URI and experiment\n",
    "MLFLOW_TRACKING_URI = \"http://127.0.0.1:5000\"\n",
    "EXPERIMENT_NAME = \"Pretrained_Model_Logging\"\n",
    "\n",
    "mlflow.set_tracking_uri(MLFLOW_TRACKING_URI)\n",
    "mlflow.set_experiment(EXPERIMENT_NAME)\n",
    "\n",
    "# List of models to log\n",
    "models_info = [\n",
    "    {\"file\": r\"models\\logistic_model.pkl\", \"name\": \"Logistic Regression\"},\n",
    "    {\"file\": r\"models\\svm_model.pkl\", \"name\": \"SVM\"},\n",
    "    {\"file\": r\"models\\rf_model.pkl\", \"name\": \"Random Forest\"}\n",
    "]\n",
    "\n",
    "# Function to load and log a model\n",
    "def log_model_run(model_file, model_name):\n",
    "    model = joblib.load(model_file)\n",
    "    with mlflow.start_run(run_name=model_name):\n",
    "        mlflow.set_tag(\"model_type\", model_name)\n",
    "        mlflow.sklearn.log_model(model, artifact_path=\"model\")\n",
    "        print(f\"[{model_name}] Model logged to MLflow.\")\n",
    "\n",
    "# Run all model logging in parallel\n",
    "threads = []\n",
    "for model_info in models_info:\n",
    "    t = threading.Thread(target=log_model_run, args=(model_info[\"file\"], model_info[\"name\"]))\n",
    "    t.start()\n",
    "    threads.append(t)\n",
    "\n",
    "# Wait for all threads to finish\n",
    "for t in threads:\n",
    "    t.join()\n"
   ]
  },
  {
   "cell_type": "code",
   "execution_count": null,
   "id": "74149b25",
   "metadata": {},
   "outputs": [],
   "source": []
  },
  {
   "cell_type": "code",
   "execution_count": null,
   "id": "c5d58aec",
   "metadata": {},
   "outputs": [],
   "source": []
  }
 ],
 "metadata": {
  "kernelspec": {
   "display_name": "3.12.3",
   "language": "python",
   "name": "python3"
  },
  "language_info": {
   "codemirror_mode": {
    "name": "ipython",
    "version": 3
   },
   "file_extension": ".py",
   "mimetype": "text/x-python",
   "name": "python",
   "nbconvert_exporter": "python",
   "pygments_lexer": "ipython3",
   "version": "3.12.3"
  }
 },
 "nbformat": 4,
 "nbformat_minor": 5
}
