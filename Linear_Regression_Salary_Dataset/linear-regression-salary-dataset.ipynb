{
 "cells": [
  {
   "cell_type": "markdown",
   "id": "efficient-temple",
   "metadata": {
    "papermill": {
     "duration": 0.055497,
     "end_time": "2021-10-16T15:17:53.191297",
     "exception": false,
     "start_time": "2021-10-16T15:17:53.135800",
     "status": "completed"
    },
    "tags": []
   },
   "source": [
    "**Linear Regression with Assumptions**\n",
    "\n",
    "1. Regression analysis is one of the most widely used methods for prediction."
   ]
  },
  {
   "cell_type": "markdown",
   "id": "chemical-planner",
   "metadata": {
    "papermill": {
     "duration": 0.055466,
     "end_time": "2021-10-16T15:17:53.298745",
     "exception": false,
     "start_time": "2021-10-16T15:17:53.243279",
     "status": "completed"
    },
    "tags": []
   },
   "source": [
    "* Here I am explaining the linear regression algorithm with assumption.  "
   ]
  },
  {
   "cell_type": "code",
   "execution_count": 1,
   "id": "saving-demographic",
   "metadata": {
    "_cell_guid": "b1076dfc-b9ad-4769-8c92-a6c4dae69d19",
    "_uuid": "8f2839f25d086af736a60e9eeb907d3b93b6e0e5",
    "papermill": {
     "duration": 0.073839,
     "end_time": "2021-10-16T15:17:53.424188",
     "exception": false,
     "start_time": "2021-10-16T15:17:53.350349",
     "status": "completed"
    },
    "tags": []
   },
   "outputs": [],
   "source": [
    "# This Python 3 environment comes with many helpful analytics libraries installed\n",
    "# It is defined by the kaggle/python Docker image: https://github.com/kaggle/docker-python\n",
    "# For example, here's several helpful packages to load\n",
    "\n",
    "import numpy as np # linear algebra\n",
    "import pandas as pd # data processing, CSV file I/O (e.g. pd.read_csv)\n",
    "\n",
    "# Input data files are available in the read-only \"../input/\" directory\n",
    "# For example, running this (by clicking run or pressing Shift+Enter) will list all files under the input directory\n",
    "\n",
    "import os\n",
    "for dirname, _, filenames in os.walk('/kaggle/input'):\n",
    "    for filename in filenames:\n",
    "        print(os.path.join(dirname, filename))\n",
    "\n",
    "# You can write up to 20GB to the current directory (/kaggle/working/) that gets preserved as output when you create a version using \"Save & Run All\" \n",
    "# You can also write temporary files to /kaggle/temp/, but they won't be saved outside of the current session"
   ]
  },
  {
   "cell_type": "markdown",
   "id": "general-gibson",
   "metadata": {
    "papermill": {
     "duration": 0.051973,
     "end_time": "2021-10-16T15:17:53.528276",
     "exception": false,
     "start_time": "2021-10-16T15:17:53.476303",
     "status": "completed"
    },
    "tags": []
   },
   "source": [
    "1. Linear regression is a **linear model**, e.g. a model that assumes a linear relationship between the input variables (x) and the single output variable (y).\n",
    "\n",
    "2. More specifically, that y can be calculated from a linear combination of the input variables (x).\n",
    "\n",
    "3. When there is a **single input variable (x)**, the method is referred to as simple linear regression and When more than **one input variable** multiple input variables.\n",
    "\n",
    "4. Different techniques can be used to prepare or train the linear regression equation from data, the most common of which is called **Ordinary Least Squares**. It is common to therefore refer to a model prepared this way as Ordinary Least Squares Linear Regression or just Least Squares Regression."
   ]
  },
  {
   "cell_type": "markdown",
   "id": "immediate-corps",
   "metadata": {
    "papermill": {
     "duration": 0.051458,
     "end_time": "2021-10-16T15:17:53.631177",
     "exception": false,
     "start_time": "2021-10-16T15:17:53.579719",
     "status": "completed"
    },
    "tags": []
   },
   "source": [
    "**Linear Regression Equation:-**\n",
    "\n",
    ">                                 y = B0 + B1*x"
   ]
  },
  {
   "cell_type": "markdown",
   "id": "ecological-motivation",
   "metadata": {
    "papermill": {
     "duration": 0.052057,
     "end_time": "2021-10-16T15:17:53.734985",
     "exception": false,
     "start_time": "2021-10-16T15:17:53.682928",
     "status": "completed"
    },
    "tags": []
   },
   "source": [
    "1. The linear equation assigns one scale factor to each input value or column, called a coefficient and represented by the capital Greek letter Beta (B). \n",
    "\n",
    "2. One additional coefficient is also added, giving the line an additional degree of freedom (e.g. moving up and down on a two-dimensional plot) and is often called the intercept or the bias coefficient.\n",
    "\n",
    "3. In higher dimensions when we have more than one input (x), the line is called a plane or a hyper-plane."
   ]
  },
  {
   "cell_type": "markdown",
   "id": "manual-durham",
   "metadata": {
    "papermill": {
     "duration": 0.052101,
     "end_time": "2021-10-16T15:17:53.838940",
     "exception": false,
     "start_time": "2021-10-16T15:17:53.786839",
     "status": "completed"
    },
    "tags": []
   },
   "source": [
    "**Types**\n",
    "\n",
    "*    There are many more techniques because the model is so well studied. \n",
    "\n",
    "**1. Simple Linear Regression**\n",
    "\n",
    "With simple linear regression when we have a single input, we can use statistics to estimate the coefficients.\n",
    "\n",
    "This requires that you calculate statistical properties from the data such as means, standard deviations, correlations and covariance. All of the data must be available to traverse and calculate statistics.\n",
    "\n",
    "\n",
    "**2. Ordinary Least Squares**\n",
    "\n",
    "When we have more than one input we can use Ordinary Least Squares to estimate the values of the coefficients.\n",
    "\n",
    "The Ordinary Least Squares procedure seeks to minimize the sum of the squared residuals. This means that given a regression line through the data we calculate the distance from each data point to the regression line, square it, and sum all of the squared errors together.\n",
    "\n",
    "This approach treats the data as a matrix and uses linear algebra operations to estimate the optimal values for the coefficients. It means that all of the data must be available and you must have enough memory to fit the data and perform matrix operations.\n",
    "\n",
    "**3. Gradient Descent**\n",
    "\n",
    "When there are one or more inputs you can use a process of optimizing the values of the coefficients by iteratively minimizing the error of the model on your training data.\n",
    "\n",
    "This operation is called Gradient Descent and works by starting with random values for each coefficient. The sum of the squared errors are calculated for each pair of input and output values. A learning rate is used as a scale factor and the coefficients are updated in the direction towards minimizing the error. The process is repeated until a minimum sum squared error is achieved or no further improvement is possible.\n",
    "\n",
    "When using this method, you must select a learning rate (alpha) parameter that determines the size of the improvement step to take on each iteration of the procedure\n",
    "\n",
    "**4. Regularization**\n",
    "\n",
    "There are extensions of the training of the linear model called regularization methods. \n",
    "\n",
    "These seek to both minimize the sum of the squared error of the model on the training data (using ordinary least squares) but also to reduce the complexity of the model (like the number or absolute size of the sum of all coefficients in the model).\n",
    "\n",
    "*  Two popular examples of regularization procedures for linear regression are:\n",
    "\n",
    "**Lasso Regression:**\n",
    "        where Ordinary Least Squares is modified to also minimize the absolute sum of the coefficients (called L1 regularization).\n",
    "        \n",
    "        \n",
    "**Ridge Regression:**\n",
    "        where Ordinary Least Squares is modified to also minimize the squared absolute sum of the coefficients (called L2 regularization).\n",
    "These methods are effective to use when there is collinearity in your input values and ordinary least squares would overfit the training data."
   ]
  },
  {
   "cell_type": "markdown",
   "id": "flexible-presentation",
   "metadata": {
    "papermill": {
     "duration": 0.052002,
     "end_time": "2021-10-16T15:17:53.942993",
     "exception": false,
     "start_time": "2021-10-16T15:17:53.890991",
     "status": "completed"
    },
    "tags": []
   },
   "source": [
    "1. Indenpendent variable(X=YearsExperience) and Dependent variable(y=Salary)"
   ]
  },
  {
   "cell_type": "code",
   "execution_count": 2,
   "id": "pretty-marks",
   "metadata": {
    "papermill": {
     "duration": 0.932286,
     "end_time": "2021-10-16T15:17:54.927030",
     "exception": false,
     "start_time": "2021-10-16T15:17:53.994744",
     "status": "completed"
    },
    "tags": []
   },
   "outputs": [],
   "source": [
    "#import required library \n",
    "\n",
    "import numpy as np\n",
    "import pandas as pd\n",
    "from pandas import Series,DataFrame\n",
    "import seaborn as sns\n",
    "import matplotlib.pyplot as plt\n",
    "import warnings\n",
    "warnings.filterwarnings('ignore')"
   ]
  },
  {
   "cell_type": "code",
   "execution_count": 3,
   "id": "iraqi-respect",
   "metadata": {
    "papermill": {
     "duration": 0.068195,
     "end_time": "2021-10-16T15:17:55.048404",
     "exception": false,
     "start_time": "2021-10-16T15:17:54.980209",
     "status": "completed"
    },
    "tags": []
   },
   "outputs": [],
   "source": [
    "# read the dataset \n",
    "\n",
    "df = pd.read_csv(\"Salary_Data.csv\")"
   ]
  },
  {
   "cell_type": "markdown",
   "id": "usual-arabic",
   "metadata": {
    "papermill": {
     "duration": 0.052691,
     "end_time": "2021-10-16T15:17:55.154907",
     "exception": false,
     "start_time": "2021-10-16T15:17:55.102216",
     "status": "completed"
    },
    "tags": []
   },
   "source": [
    "**EDA**"
   ]
  },
  {
   "cell_type": "code",
   "execution_count": 4,
   "id": "express-bracelet",
   "metadata": {
    "papermill": {
     "duration": 0.080044,
     "end_time": "2021-10-16T15:17:55.288213",
     "exception": false,
     "start_time": "2021-10-16T15:17:55.208169",
     "status": "completed"
    },
    "tags": []
   },
   "outputs": [
    {
     "data": {
      "text/html": [
       "<div>\n",
       "<style scoped>\n",
       "    .dataframe tbody tr th:only-of-type {\n",
       "        vertical-align: middle;\n",
       "    }\n",
       "\n",
       "    .dataframe tbody tr th {\n",
       "        vertical-align: top;\n",
       "    }\n",
       "\n",
       "    .dataframe thead th {\n",
       "        text-align: right;\n",
       "    }\n",
       "</style>\n",
       "<table border=\"1\" class=\"dataframe\">\n",
       "  <thead>\n",
       "    <tr style=\"text-align: right;\">\n",
       "      <th></th>\n",
       "      <th>YearsExperience</th>\n",
       "      <th>Salary</th>\n",
       "    </tr>\n",
       "  </thead>\n",
       "  <tbody>\n",
       "    <tr>\n",
       "      <th>0</th>\n",
       "      <td>1.1</td>\n",
       "      <td>39343</td>\n",
       "    </tr>\n",
       "    <tr>\n",
       "      <th>1</th>\n",
       "      <td>1.3</td>\n",
       "      <td>46205</td>\n",
       "    </tr>\n",
       "    <tr>\n",
       "      <th>2</th>\n",
       "      <td>1.5</td>\n",
       "      <td>37731</td>\n",
       "    </tr>\n",
       "    <tr>\n",
       "      <th>3</th>\n",
       "      <td>2.0</td>\n",
       "      <td>43525</td>\n",
       "    </tr>\n",
       "    <tr>\n",
       "      <th>4</th>\n",
       "      <td>2.2</td>\n",
       "      <td>39891</td>\n",
       "    </tr>\n",
       "  </tbody>\n",
       "</table>\n",
       "</div>"
      ],
      "text/plain": [
       "   YearsExperience  Salary\n",
       "0              1.1   39343\n",
       "1              1.3   46205\n",
       "2              1.5   37731\n",
       "3              2.0   43525\n",
       "4              2.2   39891"
      ]
     },
     "execution_count": 4,
     "metadata": {},
     "output_type": "execute_result"
    }
   ],
   "source": [
    "df.head()"
   ]
  },
  {
   "cell_type": "code",
   "execution_count": 5,
   "id": "coral-yemen",
   "metadata": {
    "papermill": {
     "duration": 0.063572,
     "end_time": "2021-10-16T15:17:55.405498",
     "exception": false,
     "start_time": "2021-10-16T15:17:55.341926",
     "status": "completed"
    },
    "tags": []
   },
   "outputs": [
    {
     "data": {
      "text/plain": [
       "(30, 2)"
      ]
     },
     "execution_count": 5,
     "metadata": {},
     "output_type": "execute_result"
    }
   ],
   "source": [
    "#check number of rows and number of columns\n",
    "df.shape     #30 rows and 2 columns"
   ]
  },
  {
   "cell_type": "code",
   "execution_count": 6,
   "id": "extended-investing",
   "metadata": {
    "papermill": {
     "duration": 0.076364,
     "end_time": "2021-10-16T15:17:55.535353",
     "exception": false,
     "start_time": "2021-10-16T15:17:55.458989",
     "status": "completed"
    },
    "tags": []
   },
   "outputs": [
    {
     "name": "stdout",
     "output_type": "stream",
     "text": [
      "<class 'pandas.core.frame.DataFrame'>\n",
      "RangeIndex: 30 entries, 0 to 29\n",
      "Data columns (total 2 columns):\n",
      " #   Column           Non-Null Count  Dtype  \n",
      "---  ------           --------------  -----  \n",
      " 0   YearsExperience  30 non-null     float64\n",
      " 1   Salary           30 non-null     int64  \n",
      "dtypes: float64(1), int64(1)\n",
      "memory usage: 612.0 bytes\n"
     ]
    }
   ],
   "source": [
    "#check dataset information \n",
    "\n",
    "df.info()"
   ]
  },
  {
   "cell_type": "markdown",
   "id": "equal-finnish",
   "metadata": {
    "papermill": {
     "duration": 0.054,
     "end_time": "2021-10-16T15:17:55.644629",
     "exception": false,
     "start_time": "2021-10-16T15:17:55.590629",
     "status": "completed"
    },
    "tags": []
   },
   "source": [
    "* Here total 30 examples with no any missing values. \n",
    "\n",
    "* one columns is float and another is intger."
   ]
  },
  {
   "cell_type": "code",
   "execution_count": 7,
   "id": "phantom-stability",
   "metadata": {
    "papermill": {
     "duration": 0.077636,
     "end_time": "2021-10-16T15:17:55.777023",
     "exception": false,
     "start_time": "2021-10-16T15:17:55.699387",
     "status": "completed"
    },
    "tags": []
   },
   "outputs": [
    {
     "data": {
      "text/html": [
       "<div>\n",
       "<style scoped>\n",
       "    .dataframe tbody tr th:only-of-type {\n",
       "        vertical-align: middle;\n",
       "    }\n",
       "\n",
       "    .dataframe tbody tr th {\n",
       "        vertical-align: top;\n",
       "    }\n",
       "\n",
       "    .dataframe thead th {\n",
       "        text-align: right;\n",
       "    }\n",
       "</style>\n",
       "<table border=\"1\" class=\"dataframe\">\n",
       "  <thead>\n",
       "    <tr style=\"text-align: right;\">\n",
       "      <th></th>\n",
       "      <th>YearsExperience</th>\n",
       "      <th>Salary</th>\n",
       "    </tr>\n",
       "  </thead>\n",
       "  <tbody>\n",
       "    <tr>\n",
       "      <th>count</th>\n",
       "      <td>30.000000</td>\n",
       "      <td>30.000000</td>\n",
       "    </tr>\n",
       "    <tr>\n",
       "      <th>mean</th>\n",
       "      <td>5.313333</td>\n",
       "      <td>76003.000000</td>\n",
       "    </tr>\n",
       "    <tr>\n",
       "      <th>std</th>\n",
       "      <td>2.837888</td>\n",
       "      <td>27414.429785</td>\n",
       "    </tr>\n",
       "    <tr>\n",
       "      <th>min</th>\n",
       "      <td>1.100000</td>\n",
       "      <td>37731.000000</td>\n",
       "    </tr>\n",
       "    <tr>\n",
       "      <th>25%</th>\n",
       "      <td>3.200000</td>\n",
       "      <td>56720.750000</td>\n",
       "    </tr>\n",
       "    <tr>\n",
       "      <th>50%</th>\n",
       "      <td>4.700000</td>\n",
       "      <td>65237.000000</td>\n",
       "    </tr>\n",
       "    <tr>\n",
       "      <th>75%</th>\n",
       "      <td>7.700000</td>\n",
       "      <td>100544.750000</td>\n",
       "    </tr>\n",
       "    <tr>\n",
       "      <th>max</th>\n",
       "      <td>10.500000</td>\n",
       "      <td>122391.000000</td>\n",
       "    </tr>\n",
       "  </tbody>\n",
       "</table>\n",
       "</div>"
      ],
      "text/plain": [
       "       YearsExperience         Salary\n",
       "count        30.000000      30.000000\n",
       "mean          5.313333   76003.000000\n",
       "std           2.837888   27414.429785\n",
       "min           1.100000   37731.000000\n",
       "25%           3.200000   56720.750000\n",
       "50%           4.700000   65237.000000\n",
       "75%           7.700000  100544.750000\n",
       "max          10.500000  122391.000000"
      ]
     },
     "execution_count": 7,
     "metadata": {},
     "output_type": "execute_result"
    }
   ],
   "source": [
    "df.describe()"
   ]
  },
  {
   "cell_type": "code",
   "execution_count": 8,
   "id": "gentle-consumption",
   "metadata": {
    "papermill": {
     "duration": 0.064238,
     "end_time": "2021-10-16T15:17:55.894581",
     "exception": false,
     "start_time": "2021-10-16T15:17:55.830343",
     "status": "completed"
    },
    "tags": []
   },
   "outputs": [
    {
     "data": {
      "text/plain": [
       "YearsExperience    0\n",
       "Salary             0\n",
       "dtype: int64"
      ]
     },
     "execution_count": 8,
     "metadata": {},
     "output_type": "execute_result"
    }
   ],
   "source": [
    "#check any missing values\n",
    "\n",
    "df.isnull().sum()"
   ]
  },
  {
   "cell_type": "code",
   "execution_count": 9,
   "id": "consolidated-sampling",
   "metadata": {
    "papermill": {
     "duration": 0.063588,
     "end_time": "2021-10-16T15:17:56.011610",
     "exception": false,
     "start_time": "2021-10-16T15:17:55.948022",
     "status": "completed"
    },
    "tags": []
   },
   "outputs": [
    {
     "data": {
      "text/plain": [
       "YearsExperience    0.37956\n",
       "Salary             0.35412\n",
       "dtype: float64"
      ]
     },
     "execution_count": 9,
     "metadata": {},
     "output_type": "execute_result"
    }
   ],
   "source": [
    "#any outliers\n",
    "\n",
    "df.skew()"
   ]
  },
  {
   "cell_type": "code",
   "execution_count": 10,
   "id": "complete-ordinance",
   "metadata": {
    "papermill": {
     "duration": 0.065678,
     "end_time": "2021-10-16T15:17:56.131637",
     "exception": false,
     "start_time": "2021-10-16T15:17:56.065959",
     "status": "completed"
    },
    "tags": []
   },
   "outputs": [
    {
     "data": {
      "text/plain": [
       "YearsExperience   -1.012212\n",
       "Salary            -1.295421\n",
       "dtype: float64"
      ]
     },
     "execution_count": 10,
     "metadata": {},
     "output_type": "execute_result"
    }
   ],
   "source": [
    "df.kurt()"
   ]
  },
  {
   "cell_type": "markdown",
   "id": "serious-external",
   "metadata": {
    "papermill": {
     "duration": 0.055176,
     "end_time": "2021-10-16T15:17:56.240406",
     "exception": false,
     "start_time": "2021-10-16T15:17:56.185230",
     "status": "completed"
    },
    "tags": []
   },
   "source": [
    "* All values are approx. same"
   ]
  },
  {
   "cell_type": "code",
   "execution_count": 11,
   "id": "aware-video",
   "metadata": {
    "papermill": {
     "duration": 0.071479,
     "end_time": "2021-10-16T15:17:56.366208",
     "exception": false,
     "start_time": "2021-10-16T15:17:56.294729",
     "status": "completed"
    },
    "tags": []
   },
   "outputs": [
    {
     "data": {
      "text/html": [
       "<div>\n",
       "<style scoped>\n",
       "    .dataframe tbody tr th:only-of-type {\n",
       "        vertical-align: middle;\n",
       "    }\n",
       "\n",
       "    .dataframe tbody tr th {\n",
       "        vertical-align: top;\n",
       "    }\n",
       "\n",
       "    .dataframe thead th {\n",
       "        text-align: right;\n",
       "    }\n",
       "</style>\n",
       "<table border=\"1\" class=\"dataframe\">\n",
       "  <thead>\n",
       "    <tr style=\"text-align: right;\">\n",
       "      <th></th>\n",
       "      <th>YearsExperience</th>\n",
       "      <th>Salary</th>\n",
       "    </tr>\n",
       "  </thead>\n",
       "  <tbody>\n",
       "    <tr>\n",
       "      <th>YearsExperience</th>\n",
       "      <td>8.053609</td>\n",
       "      <td>7.610630e+04</td>\n",
       "    </tr>\n",
       "    <tr>\n",
       "      <th>Salary</th>\n",
       "      <td>76106.303448</td>\n",
       "      <td>7.515510e+08</td>\n",
       "    </tr>\n",
       "  </tbody>\n",
       "</table>\n",
       "</div>"
      ],
      "text/plain": [
       "                 YearsExperience        Salary\n",
       "YearsExperience         8.053609  7.610630e+04\n",
       "Salary              76106.303448  7.515510e+08"
      ]
     },
     "execution_count": 11,
     "metadata": {},
     "output_type": "execute_result"
    }
   ],
   "source": [
    "#check any correlation and covariance\n",
    "\n",
    "df[['YearsExperience','Salary']].cov()"
   ]
  },
  {
   "cell_type": "code",
   "execution_count": 12,
   "id": "white-drilling",
   "metadata": {
    "papermill": {
     "duration": 0.06886,
     "end_time": "2021-10-16T15:17:56.489714",
     "exception": false,
     "start_time": "2021-10-16T15:17:56.420854",
     "status": "completed"
    },
    "tags": []
   },
   "outputs": [
    {
     "data": {
      "text/html": [
       "<div>\n",
       "<style scoped>\n",
       "    .dataframe tbody tr th:only-of-type {\n",
       "        vertical-align: middle;\n",
       "    }\n",
       "\n",
       "    .dataframe tbody tr th {\n",
       "        vertical-align: top;\n",
       "    }\n",
       "\n",
       "    .dataframe thead th {\n",
       "        text-align: right;\n",
       "    }\n",
       "</style>\n",
       "<table border=\"1\" class=\"dataframe\">\n",
       "  <thead>\n",
       "    <tr style=\"text-align: right;\">\n",
       "      <th></th>\n",
       "      <th>YearsExperience</th>\n",
       "      <th>Salary</th>\n",
       "    </tr>\n",
       "  </thead>\n",
       "  <tbody>\n",
       "    <tr>\n",
       "      <th>YearsExperience</th>\n",
       "      <td>1.000000</td>\n",
       "      <td>0.978242</td>\n",
       "    </tr>\n",
       "    <tr>\n",
       "      <th>Salary</th>\n",
       "      <td>0.978242</td>\n",
       "      <td>1.000000</td>\n",
       "    </tr>\n",
       "  </tbody>\n",
       "</table>\n",
       "</div>"
      ],
      "text/plain": [
       "                 YearsExperience    Salary\n",
       "YearsExperience         1.000000  0.978242\n",
       "Salary                  0.978242  1.000000"
      ]
     },
     "execution_count": 12,
     "metadata": {},
     "output_type": "execute_result"
    }
   ],
   "source": [
    "df.corr()"
   ]
  },
  {
   "cell_type": "markdown",
   "id": "imposed-chase",
   "metadata": {
    "papermill": {
     "duration": 0.055736,
     "end_time": "2021-10-16T15:17:56.601650",
     "exception": false,
     "start_time": "2021-10-16T15:17:56.545914",
     "status": "completed"
    },
    "tags": []
   },
   "source": [
    "**Visualization**"
   ]
  },
  {
   "cell_type": "code",
   "execution_count": 13,
   "id": "scientific-marketplace",
   "metadata": {
    "papermill": {
     "duration": 0.298965,
     "end_time": "2021-10-16T15:17:56.956699",
     "exception": false,
     "start_time": "2021-10-16T15:17:56.657734",
     "status": "completed"
    },
    "tags": []
   },
   "outputs": [
    {
     "data": {
      "image/png": "[encoded data removed]",
      "text/plain": [
       "<Figure size 640x480 with 2 Axes>"
      ]
     },
     "metadata": {},
     "output_type": "display_data"
    }
   ],
   "source": [
    "sns.heatmap(df.corr(),annot=True)\n",
    "plt.show()"
   ]
  },
  {
   "cell_type": "code",
   "execution_count": 14,
   "id": "retired-coverage",
   "metadata": {
    "papermill": {
     "duration": 0.926835,
     "end_time": "2021-10-16T15:17:57.942017",
     "exception": false,
     "start_time": "2021-10-16T15:17:57.015182",
     "status": "completed"
    },
    "tags": []
   },
   "outputs": [
    {
     "data": {
      "image/png": "[encoded data removed]",
      "text/plain": [
       "<Figure size 500x500 with 6 Axes>"
      ]
     },
     "metadata": {},
     "output_type": "display_data"
    }
   ],
   "source": [
    "sns.pairplot(df)\n",
    "plt.show()"
   ]
  },
  {
   "cell_type": "markdown",
   "id": "absolute-consideration",
   "metadata": {
    "papermill": {
     "duration": 0.056656,
     "end_time": "2021-10-16T15:17:58.056851",
     "exception": false,
     "start_time": "2021-10-16T15:17:58.000195",
     "status": "completed"
    },
    "tags": []
   },
   "source": [
    "* **Types of Line Style**\n",
    "\n",
    "Syntax :- (data, ls='--')\n",
    "\n",
    "1. Draw a dotted line style use as ':'\n",
    "\n",
    "2. Draw a dashed line style use as '--'\n",
    "\n",
    "3. Draw a dashdot line style use as '-.'\n",
    "\n",
    "4. Draw a solid line style use as '-'  (by default)"
   ]
  },
  {
   "cell_type": "markdown",
   "id": "virtual-pricing",
   "metadata": {
    "papermill": {
     "duration": 0.056376,
     "end_time": "2021-10-16T15:17:58.170945",
     "exception": false,
     "start_time": "2021-10-16T15:17:58.114569",
     "status": "completed"
    },
    "tags": []
   },
   "source": [
    "* **Type of Line Color**\n",
    "\n",
    "Syntax :- (data, color='r')\n",
    "\n",
    "1. Use any color for example, color='r', 'b', 'g'\n",
    "\n",
    "2. Alos use **Hexadecimal color values** \n",
    "          For Blue - #0000FF\n",
    "          For DarkGreen - #006400\n",
    "          For DarkRed - #8B000\n",
    "          For DeepPink - #FF1493"
   ]
  },
  {
   "cell_type": "code",
   "execution_count": 15,
   "id": "comfortable-venture",
   "metadata": {
    "papermill": {
     "duration": 0.306249,
     "end_time": "2021-10-16T15:17:58.533775",
     "exception": false,
     "start_time": "2021-10-16T15:17:58.227526",
     "status": "completed"
    },
    "tags": []
   },
   "outputs": [
    {
     "data": {
      "image/png": "[encoded data removed]",
      "text/plain": [
       "<Figure size 640x480 with 1 Axes>"
      ]
     },
     "metadata": {},
     "output_type": "display_data"
    }
   ],
   "source": [
    "plt.plot(df, linestyle = '--', linewidth='5.7')\n",
    "\n",
    "plt.show()"
   ]
  },
  {
   "cell_type": "code",
   "execution_count": 16,
   "id": "southeast-novelty",
   "metadata": {
    "papermill": {
     "duration": 0.198412,
     "end_time": "2021-10-16T15:17:58.789883",
     "exception": false,
     "start_time": "2021-10-16T15:17:58.591471",
     "status": "completed"
    },
    "tags": []
   },
   "outputs": [
    {
     "data": {
      "image/png": "[encoded data removed]",
      "text/plain": [
       "<Figure size 640x480 with 1 Axes>"
      ]
     },
     "metadata": {},
     "output_type": "display_data"
    }
   ],
   "source": [
    "plt.plot(df, linestyle = '--', linewidth='5.7', color='#FF1493')\n",
    "\n",
    "plt.show()"
   ]
  },
  {
   "cell_type": "markdown",
   "id": "special-startup",
   "metadata": {
    "papermill": {
     "duration": 0.058393,
     "end_time": "2021-10-16T15:17:58.906848",
     "exception": false,
     "start_time": "2021-10-16T15:17:58.848455",
     "status": "completed"
    },
    "tags": []
   },
   "source": [
    "* Next Plot is Line Plot using data directly. "
   ]
  },
  {
   "cell_type": "code",
   "execution_count": 17,
   "id": "essential-headset",
   "metadata": {
    "papermill": {
     "duration": 0.258844,
     "end_time": "2021-10-16T15:17:59.224861",
     "exception": false,
     "start_time": "2021-10-16T15:17:58.966017",
     "status": "completed"
    },
    "tags": []
   },
   "outputs": [
    {
     "data": {
      "image/png": "[encoded data removed]",
      "text/plain": [
       "<Figure size 640x480 with 1 Axes>"
      ]
     },
     "metadata": {},
     "output_type": "display_data"
    }
   ],
   "source": [
    "df.plot.line(linestyle = ':', linewidth='3')\n",
    "\n",
    "plt.title('YearExperiene-VS-Salary')\n",
    "plt.show()"
   ]
  },
  {
   "cell_type": "markdown",
   "id": "still-intro",
   "metadata": {
    "papermill": {
     "duration": 0.059161,
     "end_time": "2021-10-16T15:17:59.343456",
     "exception": false,
     "start_time": "2021-10-16T15:17:59.284295",
     "status": "completed"
    },
    "tags": []
   },
   "source": [
    "**Plot a Specific Column**"
   ]
  },
  {
   "cell_type": "code",
   "execution_count": 18,
   "id": "ranking-supplier",
   "metadata": {
    "papermill": {
     "duration": 0.213178,
     "end_time": "2021-10-16T15:17:59.616339",
     "exception": false,
     "start_time": "2021-10-16T15:17:59.403161",
     "status": "completed"
    },
    "tags": []
   },
   "outputs": [
    {
     "data": {
      "image/png": "[encoded data removed]",
      "text/plain": [
       "<Figure size 640x480 with 1 Axes>"
      ]
     },
     "metadata": {},
     "output_type": "display_data"
    }
   ],
   "source": [
    "\n",
    "df = pd.DataFrame(data=df)\n",
    "\n",
    "df.plot.line(x='Salary',linestyle = ':', linewidth='3')\n",
    "\n",
    "plt.title('YearExperiene-VS-Salary')\n",
    "plt.show()"
   ]
  },
  {
   "cell_type": "markdown",
   "id": "vulnerable-receptor",
   "metadata": {
    "papermill": {
     "duration": 0.060894,
     "end_time": "2021-10-16T15:17:59.737749",
     "exception": false,
     "start_time": "2021-10-16T15:17:59.676855",
     "status": "completed"
    },
    "tags": []
   },
   "source": [
    "1. * Here, clearly shows that linearly relationship between dependent and independent variable. "
   ]
  },
  {
   "cell_type": "markdown",
   "id": "incident-merit",
   "metadata": {
    "papermill": {
     "duration": 0.059932,
     "end_time": "2021-10-16T15:17:59.857929",
     "exception": false,
     "start_time": "2021-10-16T15:17:59.797997",
     "status": "completed"
    },
    "tags": []
   },
   "source": [
    "**Independent and Dependent Variables**"
   ]
  },
  {
   "cell_type": "code",
   "execution_count": 19,
   "id": "genuine-worst",
   "metadata": {
    "papermill": {
     "duration": 0.070245,
     "end_time": "2021-10-16T15:17:59.990231",
     "exception": false,
     "start_time": "2021-10-16T15:17:59.919986",
     "status": "completed"
    },
    "tags": []
   },
   "outputs": [],
   "source": [
    "X=df.drop('Salary',axis=1)"
   ]
  },
  {
   "cell_type": "code",
   "execution_count": 20,
   "id": "stylish-sheriff",
   "metadata": {
    "papermill": {
     "duration": 0.069436,
     "end_time": "2021-10-16T15:18:00.120673",
     "exception": false,
     "start_time": "2021-10-16T15:18:00.051237",
     "status": "completed"
    },
    "tags": []
   },
   "outputs": [],
   "source": [
    "y=df.Salary"
   ]
  },
  {
   "cell_type": "code",
   "execution_count": 21,
   "id": "complex-shift",
   "metadata": {
    "papermill": {
     "duration": 0.073212,
     "end_time": "2021-10-16T15:18:00.253918",
     "exception": false,
     "start_time": "2021-10-16T15:18:00.180706",
     "status": "completed"
    },
    "tags": []
   },
   "outputs": [
    {
     "data": {
      "text/html": [
       "<div>\n",
       "<style scoped>\n",
       "    .dataframe tbody tr th:only-of-type {\n",
       "        vertical-align: middle;\n",
       "    }\n",
       "\n",
       "    .dataframe tbody tr th {\n",
       "        vertical-align: top;\n",
       "    }\n",
       "\n",
       "    .dataframe thead th {\n",
       "        text-align: right;\n",
       "    }\n",
       "</style>\n",
       "<table border=\"1\" class=\"dataframe\">\n",
       "  <thead>\n",
       "    <tr style=\"text-align: right;\">\n",
       "      <th></th>\n",
       "      <th>YearsExperience</th>\n",
       "    </tr>\n",
       "  </thead>\n",
       "  <tbody>\n",
       "    <tr>\n",
       "      <th>0</th>\n",
       "      <td>1.1</td>\n",
       "    </tr>\n",
       "    <tr>\n",
       "      <th>1</th>\n",
       "      <td>1.3</td>\n",
       "    </tr>\n",
       "    <tr>\n",
       "      <th>2</th>\n",
       "      <td>1.5</td>\n",
       "    </tr>\n",
       "    <tr>\n",
       "      <th>3</th>\n",
       "      <td>2.0</td>\n",
       "    </tr>\n",
       "    <tr>\n",
       "      <th>4</th>\n",
       "      <td>2.2</td>\n",
       "    </tr>\n",
       "  </tbody>\n",
       "</table>\n",
       "</div>"
      ],
      "text/plain": [
       "   YearsExperience\n",
       "0              1.1\n",
       "1              1.3\n",
       "2              1.5\n",
       "3              2.0\n",
       "4              2.2"
      ]
     },
     "execution_count": 21,
     "metadata": {},
     "output_type": "execute_result"
    }
   ],
   "source": [
    "X.head()"
   ]
  },
  {
   "cell_type": "code",
   "execution_count": 22,
   "id": "surgical-factory",
   "metadata": {
    "papermill": {
     "duration": 0.072279,
     "end_time": "2021-10-16T15:18:00.386971",
     "exception": false,
     "start_time": "2021-10-16T15:18:00.314692",
     "status": "completed"
    },
    "tags": []
   },
   "outputs": [
    {
     "data": {
      "text/plain": [
       "0    39343\n",
       "1    46205\n",
       "2    37731\n",
       "3    43525\n",
       "4    39891\n",
       "Name: Salary, dtype: int64"
      ]
     },
     "execution_count": 22,
     "metadata": {},
     "output_type": "execute_result"
    }
   ],
   "source": [
    "y.head()"
   ]
  },
  {
   "cell_type": "markdown",
   "id": "forward-concern",
   "metadata": {
    "papermill": {
     "duration": 0.060423,
     "end_time": "2021-10-16T15:18:00.508740",
     "exception": false,
     "start_time": "2021-10-16T15:18:00.448317",
     "status": "completed"
    },
    "tags": []
   },
   "source": [
    "**Splitting the data**"
   ]
  },
  {
   "cell_type": "code",
   "execution_count": 23,
   "id": "million-glucose",
   "metadata": {
    "papermill": {
     "duration": 0.264204,
     "end_time": "2021-10-16T15:18:00.834050",
     "exception": false,
     "start_time": "2021-10-16T15:18:00.569846",
     "status": "completed"
    },
    "tags": []
   },
   "outputs": [],
   "source": [
    "from sklearn.model_selection import train_test_split"
   ]
  },
  {
   "cell_type": "code",
   "execution_count": 24,
   "id": "raising-logan",
   "metadata": {
    "papermill": {
     "duration": 0.071415,
     "end_time": "2021-10-16T15:18:00.966796",
     "exception": false,
     "start_time": "2021-10-16T15:18:00.895381",
     "status": "completed"
    },
    "tags": []
   },
   "outputs": [],
   "source": [
    "X_train,X_test,y_train,y_test=train_test_split(X,y,random_state=0,test_size=0.30)"
   ]
  },
  {
   "cell_type": "code",
   "execution_count": 25,
   "id": "hourly-wisdom",
   "metadata": {
    "papermill": {
     "duration": 0.069305,
     "end_time": "2021-10-16T15:18:01.096820",
     "exception": false,
     "start_time": "2021-10-16T15:18:01.027515",
     "status": "completed"
    },
    "tags": []
   },
   "outputs": [
    {
     "name": "stdout",
     "output_type": "stream",
     "text": [
      "(21, 1)\n"
     ]
    }
   ],
   "source": [
    "print(X_train.shape)"
   ]
  },
  {
   "cell_type": "code",
   "execution_count": 26,
   "id": "premium-profession",
   "metadata": {
    "papermill": {
     "duration": 0.070651,
     "end_time": "2021-10-16T15:18:01.229085",
     "exception": false,
     "start_time": "2021-10-16T15:18:01.158434",
     "status": "completed"
    },
    "tags": []
   },
   "outputs": [
    {
     "data": {
      "text/plain": [
       "(9, 1)"
      ]
     },
     "execution_count": 26,
     "metadata": {},
     "output_type": "execute_result"
    }
   ],
   "source": [
    "X_test.shape"
   ]
  },
  {
   "cell_type": "markdown",
   "id": "funded-doctor",
   "metadata": {
    "papermill": {
     "duration": 0.061159,
     "end_time": "2021-10-16T15:18:01.352726",
     "exception": false,
     "start_time": "2021-10-16T15:18:01.291567",
     "status": "completed"
    },
    "tags": []
   },
   "source": [
    "**Model Fitting**"
   ]
  },
  {
   "cell_type": "code",
   "execution_count": 27,
   "id": "selected-parallel",
   "metadata": {
    "papermill": {
     "duration": 0.160855,
     "end_time": "2021-10-16T15:18:01.574637",
     "exception": false,
     "start_time": "2021-10-16T15:18:01.413782",
     "status": "completed"
    },
    "tags": []
   },
   "outputs": [],
   "source": [
    "from sklearn.linear_model import LinearRegression"
   ]
  },
  {
   "cell_type": "code",
   "execution_count": 28,
   "id": "amino-eagle",
   "metadata": {
    "papermill": {
     "duration": 0.069375,
     "end_time": "2021-10-16T15:18:01.705843",
     "exception": false,
     "start_time": "2021-10-16T15:18:01.636468",
     "status": "completed"
    },
    "tags": []
   },
   "outputs": [],
   "source": [
    "LR=LinearRegression()"
   ]
  },
  {
   "cell_type": "code",
   "execution_count": 29,
   "id": "attempted-escape",
   "metadata": {
    "papermill": {
     "duration": 0.087359,
     "end_time": "2021-10-16T15:18:01.854478",
     "exception": false,
     "start_time": "2021-10-16T15:18:01.767119",
     "status": "completed"
    },
    "tags": []
   },
   "outputs": [
    {
     "data": {
      "text/html": [
       "<style>#sk-container-id-1 {\n",
       "  /* Definition of color scheme common for light and dark mode */\n",
       "  --sklearn-color-text: #000;\n",
       "  --sklearn-color-text-muted: #666;\n",
       "  --sklearn-color-line: gray;\n",
       "  /* Definition of color scheme for unfitted estimators */\n",
       "  --sklearn-color-unfitted-level-0: #fff5e6;\n",
       "  --sklearn-color-unfitted-level-1: #f6e4d2;\n",
       "  --sklearn-color-unfitted-level-2: #ffe0b3;\n",
       "  --sklearn-color-unfitted-level-3: chocolate;\n",
       "  /* Definition of color scheme for fitted estimators */\n",
       "  --sklearn-color-fitted-level-0: #f0f8ff;\n",
       "  --sklearn-color-fitted-level-1: #d4ebff;\n",
       "  --sklearn-color-fitted-level-2: #b3dbfd;\n",
       "  --sklearn-color-fitted-level-3: cornflowerblue;\n",
       "\n",
       "  /* Specific color for light theme */\n",
       "  --sklearn-color-text-on-default-background: var(--sg-text-color, var(--theme-code-foreground, var(--jp-content-font-color1, black)));\n",
       "  --sklearn-color-background: var(--sg-background-color, var(--theme-background, var(--jp-layout-color0, white)));\n",
       "  --sklearn-color-border-box: var(--sg-text-color, var(--theme-code-foreground, var(--jp-content-font-color1, black)));\n",
       "  --sklearn-color-icon: #696969;\n",
       "\n",
       "  @media (prefers-color-scheme: dark) {\n",
       "    /* Redefinition of color scheme for dark theme */\n",
       "    --sklearn-color-text-on-default-background: var(--sg-text-color, var(--theme-code-foreground, var(--jp-content-font-color1, white)));\n",
       "    --sklearn-color-background: var(--sg-background-color, var(--theme-background, var(--jp-layout-color0, #111)));\n",
       "    --sklearn-color-border-box: var(--sg-text-color, var(--theme-code-foreground, var(--jp-content-font-color1, white)));\n",
       "    --sklearn-color-icon: #878787;\n",
       "  }\n",
       "}\n",
       "\n",
       "#sk-container-id-1 {\n",
       "  color: var(--sklearn-color-text);\n",
       "}\n",
       "\n",
       "#sk-container-id-1 pre {\n",
       "  padding: 0;\n",
       "}\n",
       "\n",
       "#sk-container-id-1 input.sk-hidden--visually {\n",
       "  border: 0;\n",
       "  clip: rect(1px 1px 1px 1px);\n",
       "  clip: rect(1px, 1px, 1px, 1px);\n",
       "  height: 1px;\n",
       "  margin: -1px;\n",
       "  overflow: hidden;\n",
       "  padding: 0;\n",
       "  position: absolute;\n",
       "  width: 1px;\n",
       "}\n",
       "\n",
       "#sk-container-id-1 div.sk-dashed-wrapped {\n",
       "  border: 1px dashed var(--sklearn-color-line);\n",
       "  margin: 0 0.4em 0.5em 0.4em;\n",
       "  box-sizing: border-box;\n",
       "  padding-bottom: 0.4em;\n",
       "  background-color: var(--sklearn-color-background);\n",
       "}\n",
       "\n",
       "#sk-container-id-1 div.sk-container {\n",
       "  /* jupyter's `normalize.less` sets `[hidden] { display: none; }`\n",
       "     but bootstrap.min.css set `[hidden] { display: none !important; }`\n",
       "     so we also need the `!important` here to be able to override the\n",
       "     default hidden behavior on the sphinx rendered scikit-learn.org.\n",
       "     See: https://github.com/scikit-learn/scikit-learn/issues/21755 */\n",
       "  display: inline-block !important;\n",
       "  position: relative;\n",
       "}\n",
       "\n",
       "#sk-container-id-1 div.sk-text-repr-fallback {\n",
       "  display: none;\n",
       "}\n",
       "\n",
       "div.sk-parallel-item,\n",
       "div.sk-serial,\n",
       "div.sk-item {\n",
       "  /* draw centered vertical line to link estimators */\n",
       "  background-image: linear-gradient(var(--sklearn-color-text-on-default-background), var(--sklearn-color-text-on-default-background));\n",
       "  background-size: 2px 100%;\n",
       "  background-repeat: no-repeat;\n",
       "  background-position: center center;\n",
       "}\n",
       "\n",
       "/* Parallel-specific style estimator block */\n",
       "\n",
       "#sk-container-id-1 div.sk-parallel-item::after {\n",
       "  content: \"\";\n",
       "  width: 100%;\n",
       "  border-bottom: 2px solid var(--sklearn-color-text-on-default-background);\n",
       "  flex-grow: 1;\n",
       "}\n",
       "\n",
       "#sk-container-id-1 div.sk-parallel {\n",
       "  display: flex;\n",
       "  align-items: stretch;\n",
       "  justify-content: center;\n",
       "  background-color: var(--sklearn-color-background);\n",
       "  position: relative;\n",
       "}\n",
       "\n",
       "#sk-container-id-1 div.sk-parallel-item {\n",
       "  display: flex;\n",
       "  flex-direction: column;\n",
       "}\n",
       "\n",
       "#sk-container-id-1 div.sk-parallel-item:first-child::after {\n",
       "  align-self: flex-end;\n",
       "  width: 50%;\n",
       "}\n",
       "\n",
       "#sk-container-id-1 div.sk-parallel-item:last-child::after {\n",
       "  align-self: flex-start;\n",
       "  width: 50%;\n",
       "}\n",
       "\n",
       "#sk-container-id-1 div.sk-parallel-item:only-child::after {\n",
       "  width: 0;\n",
       "}\n",
       "\n",
       "/* Serial-specific style estimator block */\n",
       "\n",
       "#sk-container-id-1 div.sk-serial {\n",
       "  display: flex;\n",
       "  flex-direction: column;\n",
       "  align-items: center;\n",
       "  background-color: var(--sklearn-color-background);\n",
       "  padding-right: 1em;\n",
       "  padding-left: 1em;\n",
       "}\n",
       "\n",
       "\n",
       "/* Toggleable style: style used for estimator/Pipeline/ColumnTransformer box that is\n",
       "clickable and can be expanded/collapsed.\n",
       "- Pipeline and ColumnTransformer use this feature and define the default style\n",
       "- Estimators will overwrite some part of the style using the `sk-estimator` class\n",
       "*/\n",
       "\n",
       "/* Pipeline and ColumnTransformer style (default) */\n",
       "\n",
       "#sk-container-id-1 div.sk-toggleable {\n",
       "  /* Default theme specific background. It is overwritten whether we have a\n",
       "  specific estimator or a Pipeline/ColumnTransformer */\n",
       "  background-color: var(--sklearn-color-background);\n",
       "}\n",
       "\n",
       "/* Toggleable label */\n",
       "#sk-container-id-1 label.sk-toggleable__label {\n",
       "  cursor: pointer;\n",
       "  display: flex;\n",
       "  width: 100%;\n",
       "  margin-bottom: 0;\n",
       "  padding: 0.5em;\n",
       "  box-sizing: border-box;\n",
       "  text-align: center;\n",
       "  align-items: start;\n",
       "  justify-content: space-between;\n",
       "  gap: 0.5em;\n",
       "}\n",
       "\n",
       "#sk-container-id-1 label.sk-toggleable__label .caption {\n",
       "  font-size: 0.6rem;\n",
       "  font-weight: lighter;\n",
       "  color: var(--sklearn-color-text-muted);\n",
       "}\n",
       "\n",
       "#sk-container-id-1 label.sk-toggleable__label-arrow:before {\n",
       "  /* Arrow on the left of the label */\n",
       "  content: \"▸\";\n",
       "  float: left;\n",
       "  margin-right: 0.25em;\n",
       "  color: var(--sklearn-color-icon);\n",
       "}\n",
       "\n",
       "#sk-container-id-1 label.sk-toggleable__label-arrow:hover:before {\n",
       "  color: var(--sklearn-color-text);\n",
       "}\n",
       "\n",
       "/* Toggleable content - dropdown */\n",
       "\n",
       "#sk-container-id-1 div.sk-toggleable__content {\n",
       "  max-height: 0;\n",
       "  max-width: 0;\n",
       "  overflow: hidden;\n",
       "  text-align: left;\n",
       "  /* unfitted */\n",
       "  background-color: var(--sklearn-color-unfitted-level-0);\n",
       "}\n",
       "\n",
       "#sk-container-id-1 div.sk-toggleable__content.fitted {\n",
       "  /* fitted */\n",
       "  background-color: var(--sklearn-color-fitted-level-0);\n",
       "}\n",
       "\n",
       "#sk-container-id-1 div.sk-toggleable__content pre {\n",
       "  margin: 0.2em;\n",
       "  border-radius: 0.25em;\n",
       "  color: var(--sklearn-color-text);\n",
       "  /* unfitted */\n",
       "  background-color: var(--sklearn-color-unfitted-level-0);\n",
       "}\n",
       "\n",
       "#sk-container-id-1 div.sk-toggleable__content.fitted pre {\n",
       "  /* unfitted */\n",
       "  background-color: var(--sklearn-color-fitted-level-0);\n",
       "}\n",
       "\n",
       "#sk-container-id-1 input.sk-toggleable__control:checked~div.sk-toggleable__content {\n",
       "  /* Expand drop-down */\n",
       "  max-height: 200px;\n",
       "  max-width: 100%;\n",
       "  overflow: auto;\n",
       "}\n",
       "\n",
       "#sk-container-id-1 input.sk-toggleable__control:checked~label.sk-toggleable__label-arrow:before {\n",
       "  content: \"▾\";\n",
       "}\n",
       "\n",
       "/* Pipeline/ColumnTransformer-specific style */\n",
       "\n",
       "#sk-container-id-1 div.sk-label input.sk-toggleable__control:checked~label.sk-toggleable__label {\n",
       "  color: var(--sklearn-color-text);\n",
       "  background-color: var(--sklearn-color-unfitted-level-2);\n",
       "}\n",
       "\n",
       "#sk-container-id-1 div.sk-label.fitted input.sk-toggleable__control:checked~label.sk-toggleable__label {\n",
       "  background-color: var(--sklearn-color-fitted-level-2);\n",
       "}\n",
       "\n",
       "/* Estimator-specific style */\n",
       "\n",
       "/* Colorize estimator box */\n",
       "#sk-container-id-1 div.sk-estimator input.sk-toggleable__control:checked~label.sk-toggleable__label {\n",
       "  /* unfitted */\n",
       "  background-color: var(--sklearn-color-unfitted-level-2);\n",
       "}\n",
       "\n",
       "#sk-container-id-1 div.sk-estimator.fitted input.sk-toggleable__control:checked~label.sk-toggleable__label {\n",
       "  /* fitted */\n",
       "  background-color: var(--sklearn-color-fitted-level-2);\n",
       "}\n",
       "\n",
       "#sk-container-id-1 div.sk-label label.sk-toggleable__label,\n",
       "#sk-container-id-1 div.sk-label label {\n",
       "  /* The background is the default theme color */\n",
       "  color: var(--sklearn-color-text-on-default-background);\n",
       "}\n",
       "\n",
       "/* On hover, darken the color of the background */\n",
       "#sk-container-id-1 div.sk-label:hover label.sk-toggleable__label {\n",
       "  color: var(--sklearn-color-text);\n",
       "  background-color: var(--sklearn-color-unfitted-level-2);\n",
       "}\n",
       "\n",
       "/* Label box, darken color on hover, fitted */\n",
       "#sk-container-id-1 div.sk-label.fitted:hover label.sk-toggleable__label.fitted {\n",
       "  color: var(--sklearn-color-text);\n",
       "  background-color: var(--sklearn-color-fitted-level-2);\n",
       "}\n",
       "\n",
       "/* Estimator label */\n",
       "\n",
       "#sk-container-id-1 div.sk-label label {\n",
       "  font-family: monospace;\n",
       "  font-weight: bold;\n",
       "  display: inline-block;\n",
       "  line-height: 1.2em;\n",
       "}\n",
       "\n",
       "#sk-container-id-1 div.sk-label-container {\n",
       "  text-align: center;\n",
       "}\n",
       "\n",
       "/* Estimator-specific */\n",
       "#sk-container-id-1 div.sk-estimator {\n",
       "  font-family: monospace;\n",
       "  border: 1px dotted var(--sklearn-color-border-box);\n",
       "  border-radius: 0.25em;\n",
       "  box-sizing: border-box;\n",
       "  margin-bottom: 0.5em;\n",
       "  /* unfitted */\n",
       "  background-color: var(--sklearn-color-unfitted-level-0);\n",
       "}\n",
       "\n",
       "#sk-container-id-1 div.sk-estimator.fitted {\n",
       "  /* fitted */\n",
       "  background-color: var(--sklearn-color-fitted-level-0);\n",
       "}\n",
       "\n",
       "/* on hover */\n",
       "#sk-container-id-1 div.sk-estimator:hover {\n",
       "  /* unfitted */\n",
       "  background-color: var(--sklearn-color-unfitted-level-2);\n",
       "}\n",
       "\n",
       "#sk-container-id-1 div.sk-estimator.fitted:hover {\n",
       "  /* fitted */\n",
       "  background-color: var(--sklearn-color-fitted-level-2);\n",
       "}\n",
       "\n",
       "/* Specification for estimator info (e.g. \"i\" and \"?\") */\n",
       "\n",
       "/* Common style for \"i\" and \"?\" */\n",
       "\n",
       ".sk-estimator-doc-link,\n",
       "a:link.sk-estimator-doc-link,\n",
       "a:visited.sk-estimator-doc-link {\n",
       "  float: right;\n",
       "  font-size: smaller;\n",
       "  line-height: 1em;\n",
       "  font-family: monospace;\n",
       "  background-color: var(--sklearn-color-background);\n",
       "  border-radius: 1em;\n",
       "  height: 1em;\n",
       "  width: 1em;\n",
       "  text-decoration: none !important;\n",
       "  margin-left: 0.5em;\n",
       "  text-align: center;\n",
       "  /* unfitted */\n",
       "  border: var(--sklearn-color-unfitted-level-1) 1pt solid;\n",
       "  color: var(--sklearn-color-unfitted-level-1);\n",
       "}\n",
       "\n",
       ".sk-estimator-doc-link.fitted,\n",
       "a:link.sk-estimator-doc-link.fitted,\n",
       "a:visited.sk-estimator-doc-link.fitted {\n",
       "  /* fitted */\n",
       "  border: var(--sklearn-color-fitted-level-1) 1pt solid;\n",
       "  color: var(--sklearn-color-fitted-level-1);\n",
       "}\n",
       "\n",
       "/* On hover */\n",
       "div.sk-estimator:hover .sk-estimator-doc-link:hover,\n",
       ".sk-estimator-doc-link:hover,\n",
       "div.sk-label-container:hover .sk-estimator-doc-link:hover,\n",
       ".sk-estimator-doc-link:hover {\n",
       "  /* unfitted */\n",
       "  background-color: var(--sklearn-color-unfitted-level-3);\n",
       "  color: var(--sklearn-color-background);\n",
       "  text-decoration: none;\n",
       "}\n",
       "\n",
       "div.sk-estimator.fitted:hover .sk-estimator-doc-link.fitted:hover,\n",
       ".sk-estimator-doc-link.fitted:hover,\n",
       "div.sk-label-container:hover .sk-estimator-doc-link.fitted:hover,\n",
       ".sk-estimator-doc-link.fitted:hover {\n",
       "  /* fitted */\n",
       "  background-color: var(--sklearn-color-fitted-level-3);\n",
       "  color: var(--sklearn-color-background);\n",
       "  text-decoration: none;\n",
       "}\n",
       "\n",
       "/* Span, style for the box shown on hovering the info icon */\n",
       ".sk-estimator-doc-link span {\n",
       "  display: none;\n",
       "  z-index: 9999;\n",
       "  position: relative;\n",
       "  font-weight: normal;\n",
       "  right: .2ex;\n",
       "  padding: .5ex;\n",
       "  margin: .5ex;\n",
       "  width: min-content;\n",
       "  min-width: 20ex;\n",
       "  max-width: 50ex;\n",
       "  color: var(--sklearn-color-text);\n",
       "  box-shadow: 2pt 2pt 4pt #999;\n",
       "  /* unfitted */\n",
       "  background: var(--sklearn-color-unfitted-level-0);\n",
       "  border: .5pt solid var(--sklearn-color-unfitted-level-3);\n",
       "}\n",
       "\n",
       ".sk-estimator-doc-link.fitted span {\n",
       "  /* fitted */\n",
       "  background: var(--sklearn-color-fitted-level-0);\n",
       "  border: var(--sklearn-color-fitted-level-3);\n",
       "}\n",
       "\n",
       ".sk-estimator-doc-link:hover span {\n",
       "  display: block;\n",
       "}\n",
       "\n",
       "/* \"?\"-specific style due to the `<a>` HTML tag */\n",
       "\n",
       "#sk-container-id-1 a.estimator_doc_link {\n",
       "  float: right;\n",
       "  font-size: 1rem;\n",
       "  line-height: 1em;\n",
       "  font-family: monospace;\n",
       "  background-color: var(--sklearn-color-background);\n",
       "  border-radius: 1rem;\n",
       "  height: 1rem;\n",
       "  width: 1rem;\n",
       "  text-decoration: none;\n",
       "  /* unfitted */\n",
       "  color: var(--sklearn-color-unfitted-level-1);\n",
       "  border: var(--sklearn-color-unfitted-level-1) 1pt solid;\n",
       "}\n",
       "\n",
       "#sk-container-id-1 a.estimator_doc_link.fitted {\n",
       "  /* fitted */\n",
       "  border: var(--sklearn-color-fitted-level-1) 1pt solid;\n",
       "  color: var(--sklearn-color-fitted-level-1);\n",
       "}\n",
       "\n",
       "/* On hover */\n",
       "#sk-container-id-1 a.estimator_doc_link:hover {\n",
       "  /* unfitted */\n",
       "  background-color: var(--sklearn-color-unfitted-level-3);\n",
       "  color: var(--sklearn-color-background);\n",
       "  text-decoration: none;\n",
       "}\n",
       "\n",
       "#sk-container-id-1 a.estimator_doc_link.fitted:hover {\n",
       "  /* fitted */\n",
       "  background-color: var(--sklearn-color-fitted-level-3);\n",
       "}\n",
       "</style><div id=\"sk-container-id-1\" class=\"sk-top-container\"><div class=\"sk-text-repr-fallback\"><pre>LinearRegression()</pre><b>In a Jupyter environment, please rerun this cell to show the HTML representation or trust the notebook. <br />On GitHub, the HTML representation is unable to render, please try loading this page with nbviewer.org.</b></div><div class=\"sk-container\" hidden><div class=\"sk-item\"><div class=\"sk-estimator fitted sk-toggleable\"><input class=\"sk-toggleable__control sk-hidden--visually\" id=\"sk-estimator-id-1\" type=\"checkbox\" checked><label for=\"sk-estimator-id-1\" class=\"sk-toggleable__label fitted sk-toggleable__label-arrow\"><div><div>LinearRegression</div></div><div><a class=\"sk-estimator-doc-link fitted\" rel=\"noreferrer\" target=\"_blank\" href=\"https://scikit-learn.org/1.6/modules/generated/sklearn.linear_model.LinearRegression.html\">?<span>Documentation for LinearRegression</span></a><span class=\"sk-estimator-doc-link fitted\">i<span>Fitted</span></span></div></label><div class=\"sk-toggleable__content fitted\"><pre>LinearRegression()</pre></div> </div></div></div></div>"
      ],
      "text/plain": [
       "LinearRegression()"
      ]
     },
     "execution_count": 29,
     "metadata": {},
     "output_type": "execute_result"
    }
   ],
   "source": [
    "LR.fit(X_train,y_train)"
   ]
  },
  {
   "cell_type": "code",
   "execution_count": 30,
   "id": "behind-label",
   "metadata": {
    "papermill": {
     "duration": 0.071187,
     "end_time": "2021-10-16T15:18:01.987520",
     "exception": false,
     "start_time": "2021-10-16T15:18:01.916333",
     "status": "completed"
    },
    "tags": []
   },
   "outputs": [
    {
     "data": {
      "text/plain": [
       "np.float64(26777.391341197625)"
      ]
     },
     "execution_count": 30,
     "metadata": {},
     "output_type": "execute_result"
    }
   ],
   "source": [
    "LR.intercept_   # beta 0"
   ]
  },
  {
   "cell_type": "code",
   "execution_count": 31,
   "id": "gentle-lottery",
   "metadata": {
    "papermill": {
     "duration": 0.072556,
     "end_time": "2021-10-16T15:18:02.122179",
     "exception": false,
     "start_time": "2021-10-16T15:18:02.049623",
     "status": "completed"
    },
    "tags": []
   },
   "outputs": [
    {
     "data": {
      "text/plain": [
       "array([9360.26128619])"
      ]
     },
     "execution_count": 31,
     "metadata": {},
     "output_type": "execute_result"
    }
   ],
   "source": [
    "LR.coef_        # beta 1"
   ]
  },
  {
   "cell_type": "markdown",
   "id": "vanilla-greenhouse",
   "metadata": {
    "papermill": {
     "duration": 0.062122,
     "end_time": "2021-10-16T15:18:02.247587",
     "exception": false,
     "start_time": "2021-10-16T15:18:02.185465",
     "status": "completed"
    },
    "tags": []
   },
   "source": [
    "**Prediction**"
   ]
  },
  {
   "cell_type": "code",
   "execution_count": 32,
   "id": "functional-broadcast",
   "metadata": {
    "papermill": {
     "duration": 0.071465,
     "end_time": "2021-10-16T15:18:02.384340",
     "exception": false,
     "start_time": "2021-10-16T15:18:02.312875",
     "status": "completed"
    },
    "tags": []
   },
   "outputs": [],
   "source": [
    "y_pred=LR.predict(X_test)"
   ]
  },
  {
   "cell_type": "code",
   "execution_count": 33,
   "id": "north-avenue",
   "metadata": {
    "papermill": {
     "duration": 0.071249,
     "end_time": "2021-10-16T15:18:02.518012",
     "exception": false,
     "start_time": "2021-10-16T15:18:02.446763",
     "status": "completed"
    },
    "tags": []
   },
   "outputs": [
    {
     "data": {
      "text/plain": [
       "array([ 40817.78327049, 123188.08258899,  65154.46261459,  63282.41035735,\n",
       "       115699.87356004, 108211.66453108, 116635.89968866,  64218.43648597,\n",
       "        76386.77615802])"
      ]
     },
     "execution_count": 33,
     "metadata": {},
     "output_type": "execute_result"
    }
   ],
   "source": [
    "y_pred"
   ]
  },
  {
   "cell_type": "code",
   "execution_count": 34,
   "id": "hollywood-patrol",
   "metadata": {
    "papermill": {
     "duration": 0.072192,
     "end_time": "2021-10-16T15:18:02.653109",
     "exception": false,
     "start_time": "2021-10-16T15:18:02.580917",
     "status": "completed"
    },
    "tags": []
   },
   "outputs": [
    {
     "data": {
      "text/plain": [
       "2      37731\n",
       "28    122391\n",
       "13     57081\n",
       "10     63218\n",
       "26    116969\n",
       "24    109431\n",
       "27    112635\n",
       "11     55794\n",
       "17     83088\n",
       "Name: Salary, dtype: int64"
      ]
     },
     "execution_count": 34,
     "metadata": {},
     "output_type": "execute_result"
    }
   ],
   "source": [
    "y_test"
   ]
  },
  {
   "cell_type": "markdown",
   "id": "sunset-coupon",
   "metadata": {
    "papermill": {
     "duration": 0.063976,
     "end_time": "2021-10-16T15:18:02.780587",
     "exception": false,
     "start_time": "2021-10-16T15:18:02.716611",
     "status": "completed"
    },
    "tags": []
   },
   "source": [
    "**Evaluation**"
   ]
  },
  {
   "cell_type": "code",
   "execution_count": 35,
   "id": "rolled-charity",
   "metadata": {
    "papermill": {
     "duration": 0.07107,
     "end_time": "2021-10-16T15:18:02.915338",
     "exception": false,
     "start_time": "2021-10-16T15:18:02.844268",
     "status": "completed"
    },
    "tags": []
   },
   "outputs": [],
   "source": [
    "from sklearn import metrics"
   ]
  },
  {
   "cell_type": "code",
   "execution_count": 36,
   "id": "atmospheric-guarantee",
   "metadata": {
    "papermill": {
     "duration": 0.073784,
     "end_time": "2021-10-16T15:18:03.053058",
     "exception": false,
     "start_time": "2021-10-16T15:18:02.979274",
     "status": "completed"
    },
    "tags": []
   },
   "outputs": [],
   "source": [
    "R2=metrics.r2_score(y_test,y_pred)"
   ]
  },
  {
   "cell_type": "code",
   "execution_count": 37,
   "id": "amended-female",
   "metadata": {
    "papermill": {
     "duration": 0.072802,
     "end_time": "2021-10-16T15:18:03.191908",
     "exception": false,
     "start_time": "2021-10-16T15:18:03.119106",
     "status": "completed"
    },
    "tags": []
   },
   "outputs": [
    {
     "data": {
      "text/plain": [
       "0.9740993407213511"
      ]
     },
     "execution_count": 37,
     "metadata": {},
     "output_type": "execute_result"
    }
   ],
   "source": [
    "R2"
   ]
  },
  {
   "cell_type": "code",
   "execution_count": 38,
   "id": "equipped-ancient",
   "metadata": {
    "papermill": {
     "duration": 0.072646,
     "end_time": "2021-10-16T15:18:03.328271",
     "exception": false,
     "start_time": "2021-10-16T15:18:03.255625",
     "status": "completed"
    },
    "tags": []
   },
   "outputs": [
    {
     "name": "stdout",
     "output_type": "stream",
     "text": [
      "3737.417861878896\n"
     ]
    }
   ],
   "source": [
    "print(metrics.mean_absolute_error(y_test,y_pred))"
   ]
  },
  {
   "cell_type": "code",
   "execution_count": 39,
   "id": "suburban-consumption",
   "metadata": {
    "papermill": {
     "duration": 0.074398,
     "end_time": "2021-10-16T15:18:03.467666",
     "exception": false,
     "start_time": "2021-10-16T15:18:03.393268",
     "status": "completed"
    },
    "tags": []
   },
   "outputs": [
    {
     "name": "stdout",
     "output_type": "stream",
     "text": [
      "23370078.800832972\n"
     ]
    }
   ],
   "source": [
    "print(metrics.mean_squared_error(y_test,y_pred))"
   ]
  },
  {
   "cell_type": "code",
   "execution_count": 40,
   "id": "latin-context",
   "metadata": {
    "papermill": {
     "duration": 0.074041,
     "end_time": "2021-10-16T15:18:03.605791",
     "exception": false,
     "start_time": "2021-10-16T15:18:03.531750",
     "status": "completed"
    },
    "tags": []
   },
   "outputs": [
    {
     "name": "stdout",
     "output_type": "stream",
     "text": [
      "4834.260936361728\n"
     ]
    }
   ],
   "source": [
    "print(np.sqrt(metrics.mean_squared_error(y_test,y_pred)))"
   ]
  },
  {
   "cell_type": "code",
   "execution_count": 41,
   "id": "parliamentary-curve",
   "metadata": {
    "papermill": {
     "duration": 0.074332,
     "end_time": "2021-10-16T15:18:03.746607",
     "exception": false,
     "start_time": "2021-10-16T15:18:03.672275",
     "status": "completed"
    },
    "tags": []
   },
   "outputs": [
    {
     "name": "stdout",
     "output_type": "stream",
     "text": [
      "[73578.69777217]\n"
     ]
    }
   ],
   "source": [
    "print(LR.predict([[5]])) "
   ]
  },
  {
   "cell_type": "markdown",
   "id": "spiritual-yugoslavia",
   "metadata": {
    "papermill": {
     "duration": 0.065066,
     "end_time": "2021-10-16T15:18:03.877058",
     "exception": false,
     "start_time": "2021-10-16T15:18:03.811992",
     "status": "completed"
    },
    "tags": []
   },
   "source": [
    "**Assumptions**"
   ]
  },
  {
   "cell_type": "code",
   "execution_count": 42,
   "id": "british-internship",
   "metadata": {
    "papermill": {
     "duration": 0.071874,
     "end_time": "2021-10-16T15:18:04.014282",
     "exception": false,
     "start_time": "2021-10-16T15:18:03.942408",
     "status": "completed"
    },
    "tags": []
   },
   "outputs": [],
   "source": [
    "error= y_test-y_pred"
   ]
  },
  {
   "cell_type": "code",
   "execution_count": 43,
   "id": "cultural-panama",
   "metadata": {
    "papermill": {
     "duration": 0.075057,
     "end_time": "2021-10-16T15:18:04.156931",
     "exception": false,
     "start_time": "2021-10-16T15:18:04.081874",
     "status": "completed"
    },
    "tags": []
   },
   "outputs": [
    {
     "data": {
      "text/plain": [
       "2    -3086.783270\n",
       "28    -797.082589\n",
       "13   -8073.462615\n",
       "10     -64.410357\n",
       "26    1269.126440\n",
       "24    1219.335469\n",
       "27   -4000.899689\n",
       "11   -8424.436486\n",
       "17    6701.223842\n",
       "Name: Salary, dtype: float64"
      ]
     },
     "execution_count": 43,
     "metadata": {},
     "output_type": "execute_result"
    }
   ],
   "source": [
    "error"
   ]
  },
  {
   "cell_type": "markdown",
   "id": "rolled-alpha",
   "metadata": {
    "papermill": {
     "duration": 0.066229,
     "end_time": "2021-10-16T15:18:04.288713",
     "exception": false,
     "start_time": "2021-10-16T15:18:04.222484",
     "status": "completed"
    },
    "tags": []
   },
   "source": [
    "**No Autocorrelation**"
   ]
  },
  {
   "cell_type": "code",
   "execution_count": 44,
   "id": "center-bubble",
   "metadata": {
    "papermill": {
     "duration": 0.755524,
     "end_time": "2021-10-16T15:18:05.109512",
     "exception": false,
     "start_time": "2021-10-16T15:18:04.353988",
     "status": "completed"
    },
    "tags": []
   },
   "outputs": [],
   "source": [
    "import statsmodels.api as smt\n",
    "from statsmodels.graphics.tsaplots import plot_acf, plot_pacf"
   ]
  },
  {
   "cell_type": "code",
   "execution_count": 45,
   "id": "variable-incident",
   "metadata": {
    "papermill": {
     "duration": 0.283233,
     "end_time": "2021-10-16T15:18:05.458300",
     "exception": false,
     "start_time": "2021-10-16T15:18:05.175067",
     "status": "completed"
    },
    "tags": []
   },
   "outputs": [
    {
     "data": {
      "image/png": "[encoded data removed]",
      "text/plain": [
       "<Figure size 640x480 with 1 Axes>"
      ]
     },
     "metadata": {},
     "output_type": "display_data"
    }
   ],
   "source": [
    "acf=plot_acf(error)\n",
    "plt.show()"
   ]
  },
  {
   "cell_type": "markdown",
   "id": "widespread-bradford",
   "metadata": {
    "papermill": {
     "duration": 0.067722,
     "end_time": "2021-10-16T15:18:05.593157",
     "exception": false,
     "start_time": "2021-10-16T15:18:05.525435",
     "status": "completed"
    },
    "tags": []
   },
   "source": [
    "**Normality**"
   ]
  },
  {
   "cell_type": "code",
   "execution_count": 46,
   "id": "peaceful-jefferson",
   "metadata": {
    "papermill": {
     "duration": 0.241178,
     "end_time": "2021-10-16T15:18:05.900739",
     "exception": false,
     "start_time": "2021-10-16T15:18:05.659561",
     "status": "completed"
    },
    "tags": []
   },
   "outputs": [
    {
     "data": {
      "image/png": "[encoded data removed]",
      "text/plain": [
       "<Figure size 640x480 with 1 Axes>"
      ]
     },
     "metadata": {},
     "output_type": "display_data"
    }
   ],
   "source": [
    "sns.distplot(error)\n",
    "plt.xlabel('residual')\n",
    "plt.show()"
   ]
  },
  {
   "cell_type": "markdown",
   "id": "moral-tuition",
   "metadata": {
    "papermill": {
     "duration": 0.066836,
     "end_time": "2021-10-16T15:18:06.034470",
     "exception": false,
     "start_time": "2021-10-16T15:18:05.967634",
     "status": "completed"
    },
    "tags": []
   },
   "source": [
    "**Linearity**"
   ]
  },
  {
   "cell_type": "code",
   "execution_count": 47,
   "id": "bridal-macro",
   "metadata": {
    "papermill": {
     "duration": 0.316328,
     "end_time": "2021-10-16T15:18:06.417615",
     "exception": false,
     "start_time": "2021-10-16T15:18:06.101287",
     "status": "completed"
    },
    "scrolled": true,
    "tags": []
   },
   "outputs": [
    {
     "data": {
      "image/png": "[encoded data removed]",
      "text/plain": [
       "<Figure size 640x480 with 1 Axes>"
      ]
     },
     "metadata": {},
     "output_type": "display_data"
    }
   ],
   "source": [
    "# Assuming `X` is a DataFrame with 'YearsExperience' column and `y` is the salary Series\n",
    "sns.regplot(x=X['YearsExperience'], y=y)\n",
    "plt.xlabel('Years of Experience')\n",
    "plt.ylabel('Salary')\n",
    "plt.title('Regression Plot: Salary vs. Years of Experience')\n",
    "plt.show()"
   ]
  },
  {
   "cell_type": "markdown",
   "id": "varied-factor",
   "metadata": {
    "papermill": {
     "duration": 0.067204,
     "end_time": "2021-10-16T15:18:06.552631",
     "exception": false,
     "start_time": "2021-10-16T15:18:06.485427",
     "status": "completed"
    },
    "tags": []
   },
   "source": [
    "**Homoscedasticity**"
   ]
  },
  {
   "cell_type": "code",
   "execution_count": 48,
   "id": "detected-serve",
   "metadata": {
    "papermill": {
     "duration": 0.261462,
     "end_time": "2021-10-16T15:18:06.881450",
     "exception": false,
     "start_time": "2021-10-16T15:18:06.619988",
     "status": "completed"
    },
    "tags": []
   },
   "outputs": [
    {
     "data": {
      "image/png": "[encoded data removed]",
      "text/plain": [
       "<Figure size 640x480 with 1 Axes>"
      ]
     },
     "metadata": {},
     "output_type": "display_data"
    }
   ],
   "source": [
    "# Convert y_pred to a Series with matching indices\n",
    "y_pred_series = pd.Series(y_pred, index=error.index)\n",
    "\n",
    "# Residual plot\n",
    "sns.scatterplot(x=y_pred_series, y=error)\n",
    "plt.xlabel('Predicted Values')\n",
    "plt.ylabel('Residuals')\n",
    "plt.xlim([0, 150000])\n",
    "plt.ylim([-8000, 8000])\n",
    "plt.axhline(0, color='blue', linestyle='--')  # horizontal reference line\n",
    "plt.title('Residual Plot')\n",
    "plt.show()"
   ]
  },
  {
   "cell_type": "markdown",
   "id": "respected-plenty",
   "metadata": {
    "papermill": {
     "duration": 0.068456,
     "end_time": "2021-10-16T15:18:07.020304",
     "exception": false,
     "start_time": "2021-10-16T15:18:06.951848",
     "status": "completed"
    },
    "tags": []
   },
   "source": [
    "**Multicollinearity**"
   ]
  },
  {
   "cell_type": "code",
   "execution_count": 49,
   "id": "aggregate-blend",
   "metadata": {
    "papermill": {
     "duration": 0.325101,
     "end_time": "2021-10-16T15:18:07.416138",
     "exception": false,
     "start_time": "2021-10-16T15:18:07.091037",
     "status": "completed"
    },
    "tags": []
   },
   "outputs": [
    {
     "data": {
      "image/png": "[encoded data removed]",
      "text/plain": [
       "<Figure size 640x480 with 2 Axes>"
      ]
     },
     "metadata": {},
     "output_type": "display_data"
    }
   ],
   "source": [
    "sns.heatmap(df.corr(),annot=True)\n",
    "plt.show()"
   ]
  },
  {
   "cell_type": "code",
   "execution_count": null,
   "id": "improving-publicity",
   "metadata": {
    "papermill": {
     "duration": 0.069127,
     "end_time": "2021-10-16T15:18:07.554817",
     "exception": false,
     "start_time": "2021-10-16T15:18:07.485690",
     "status": "completed"
    },
    "tags": []
   },
   "outputs": [],
   "source": []
  }
 ],
 "metadata": {
  "kernelspec": {
   "display_name": "3.12.3",
   "language": "python",
   "name": "python3"
  },
  "language_info": {
   "codemirror_mode": {
    "name": "ipython",
    "version": 3
   },
   "file_extension": ".py",
   "mimetype": "text/x-python",
   "name": "python",
   "nbconvert_exporter": "python",
   "pygments_lexer": "ipython3",
   "version": "3.12.3"
  },
  "papermill": {
   "default_parameters": {},
   "duration": 23.898864,
   "end_time": "2021-10-16T15:18:09.126516",
   "environment_variables": {},
   "exception": null,
   "input_path": "__notebook__.ipynb",
   "output_path": "__notebook__.ipynb",
   "parameters": {},
   "start_time": "2021-10-16T15:17:45.227652",
   "version": "2.3.3"
  }
 },
 "nbformat": 4,
 "nbformat_minor": 5
}
