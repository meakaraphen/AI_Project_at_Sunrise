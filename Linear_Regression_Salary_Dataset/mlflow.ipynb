{
 "cells": [
  {
   "cell_type": "code",
   "execution_count": 4,
   "id": "603bcd68",
   "metadata": {},
   "outputs": [
    {
     "name": "stdout",
     "output_type": "stream",
     "text": [
      "Accuracy:  0.9666666666666667\n"
     ]
    },
    {
     "name": "stderr",
     "output_type": "stream",
     "text": [
      "2025/05/03 15:55:41 WARNING mlflow.models.model: Model logged without a signature and input example. Please set `input_example` parameter when logging the model to auto infer the model signature.\n"
     ]
    },
    {
     "name": "stdout",
     "output_type": "stream",
     "text": [
      "🏃 View run nimble-mule-28 at: http://127.0.0.1:5000/#/experiments/0/runs/e6a5d6af637b4cbdbdec8636b9882bf3\n",
      "🧪 View experiment at: http://127.0.0.1:5000/#/experiments/0\n"
     ]
    }
   ],
   "source": [
    "\n",
    "# Description: This script trains a simple Logistic Regression model on the Iris dataset and logs the model to MLflow.\n",
    "# To run this script, you need to have an MLflow server running. You can start one with the following command:\n",
    "# mlflow ui\n",
    "# Then, you can run this script with the following command:\n",
    "# python mlflow_demo.py\n",
    "\n",
    "\n",
    "import mlflow  \n",
    "from sklearn.linear_model import LogisticRegression  \n",
    "from sklearn.datasets import load_iris  \n",
    "from sklearn.model_selection import train_test_split  \n",
    "from sklearn.metrics import accuracy_score  \n",
    "\n",
    "# Load dataset  \n",
    "data = load_iris()  \n",
    "X_train, X_test, y_train, y_test = train_test_split(data.data, data.target, test_size=0.2)  \n",
    "\n",
    "# Start MLflow run  \n",
    "with mlflow.start_run():  \n",
    "    \n",
    "    mlflow.set_tracking_uri(\"http://127.0.0.1:5000/\")\n",
    "\n",
    "    # Log parameters  \n",
    "    mlflow.log_param(\"model_type\", \"LogisticRegression\")  \n",
    "    mlflow.log_param(\"max_iter\", 200)  # 200 \n",
    "\n",
    "    # Train model  \n",
    "    model = LogisticRegression(max_iter=100)  \n",
    "    model.fit(X_train, y_train)  \n",
    "\n",
    "    # Evaluate model  \n",
    "    y_pred = model.predict(X_test)  \n",
    "    accuracy = accuracy_score(y_test, y_pred)  \n",
    "\n",
    "    print(\"Accuracy: \", accuracy)\n",
    "    # Log metrics  \n",
    "    mlflow.log_metric(\"accuracy\", accuracy)  \n",
    "\n",
    "    # Log model  \n",
    "    mlflow.sklearn.log_model(model, \"model\")\n"
   ]
  },
  {
   "cell_type": "code",
   "execution_count": null,
   "id": "c3b25768",
   "metadata": {},
   "outputs": [],
   "source": []
  }
 ],
 "metadata": {
  "kernelspec": {
   "display_name": "3.12.3",
   "language": "python",
   "name": "python3"
  },
  "language_info": {
   "codemirror_mode": {
    "name": "ipython",
    "version": 3
   },
   "file_extension": ".py",
   "mimetype": "text/x-python",
   "name": "python",
   "nbconvert_exporter": "python",
   "pygments_lexer": "ipython3",
   "version": "3.12.3"
  }
 },
 "nbformat": 4,
 "nbformat_minor": 5
}
