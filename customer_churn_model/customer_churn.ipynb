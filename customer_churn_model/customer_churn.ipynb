{
 "cells": [
  {
   "cell_type": "code",
   "execution_count": 1,
   "id": "3d70bea5-709c-4c34-934d-df283586c8cf",
   "metadata": {},
   "outputs": [
    {
     "name": "stdout",
     "output_type": "stream",
     "text": [
      "Accuracy: 0.72\n",
      "Classification Report:\n",
      "              precision    recall  f1-score   support\n",
      "\n",
      "          No       0.91      0.68      0.78      1549\n",
      "         Yes       0.48      0.83      0.61       561\n",
      "\n",
      "    accuracy                           0.72      2110\n",
      "   macro avg       0.70      0.75      0.69      2110\n",
      "weighted avg       0.80      0.72      0.73      2110\n",
      "\n"
     ]
    }
   ],
   "source": [
    "import pandas as pd\n",
    "from sklearn.model_selection import train_test_split\n",
    "from sklearn.linear_model import LogisticRegression\n",
    "from sklearn.metrics import classification_report, accuracy_score\n",
    "from sklearn.preprocessing import LabelEncoder, StandardScaler\n",
    "import joblib\n",
    "\n",
    "# 1. Load the dataset\n",
    "df = pd.read_csv(r'D:\\Documents\\Data Science\\Dataset\\WA_Fn-UseC_-Telco-Customer-Churn.csv')\n",
    "\n",
    "# 2. Handle 'TotalCharges' which may have empty strings\n",
    "df['TotalCharges'] = pd.to_numeric(df['TotalCharges'], errors='coerce')  # convert invalid strings to NaN\n",
    "\n",
    "# 3. Drop rows with missing values\n",
    "df = df.dropna()\n",
    "\n",
    "# 4. Encode categorical variables (e.g., 'Contract', 'InternetService', 'PaymentMethod')\n",
    "categorical_columns = ['Contract', 'InternetService', 'PaymentMethod']\n",
    "le = LabelEncoder()\n",
    "for col in categorical_columns:\n",
    "    df[col] = le.fit_transform(df[col])\n",
    "\n",
    "# 5. Select the relevant features (7 features)\n",
    "selected_features = ['SeniorCitizen', 'tenure', 'MonthlyCharges', 'TotalCharges', 'Contract', 'InternetService', 'PaymentMethod']\n",
    "X = df[selected_features]  # Use only these 7 features\n",
    "y = df['Churn']\n",
    "\n",
    "# 6. Feature scaling\n",
    "scaler = StandardScaler()\n",
    "X_scaled = scaler.fit_transform(X)\n",
    "\n",
    "# 7. Train-test split (70% train, 30% test)\n",
    "X_train, X_test, y_train, y_test = train_test_split(X_scaled, y, test_size=0.3, random_state=42)\n",
    "\n",
    "# 8. Train the logistic regression model\n",
    "model = LogisticRegression(max_iter=300, class_weight='balanced')  # Optional class_weight for handling class imbalance\n",
    "model.fit(X_train, y_train)\n",
    "\n",
    "# 9. Evaluate the model\n",
    "y_pred = model.predict(X_test)\n",
    "print(f\"Accuracy: {accuracy_score(y_test, y_pred):.2f}\")\n",
    "print(\"Classification Report:\")\n",
    "print(classification_report(y_test, y_pred))\n",
    "\n"
   ]
  },
  {
   "cell_type": "code",
   "execution_count": null,
   "id": "024c9e14-86fd-4891-afae-0f3a5262fd36",
   "metadata": {},
   "outputs": [
    {
     "data": {
      "text/plain": [
       "['customer_churn_model.joblib']"
      ]
     },
     "execution_count": 10,
     "metadata": {},
     "output_type": "execute_result"
    }
   ],
   "source": [
    "# 11. Save the trained model\n",
    "#joblib.dump(model, 'customer_churn_model.joblib')"
   ]
  },
  {
   "cell_type": "code",
   "execution_count": null,
   "id": "ee47b75d-7690-4b7f-8d59-1f9b66954c57",
   "metadata": {},
   "outputs": [
    {
     "data": {
      "text/plain": [
       "['customer_churn_scaler.joblib']"
      ]
     },
     "execution_count": 11,
     "metadata": {},
     "output_type": "execute_result"
    }
   ],
   "source": [
    "# Save the scaler\n",
    "#joblib.dump(scaler, 'customer_churn_scaler.joblib')"
   ]
  },
  {
   "cell_type": "code",
   "execution_count": null,
   "id": "cd0b594a",
   "metadata": {},
   "outputs": [],
   "source": []
  }
 ],
 "metadata": {
  "kernelspec": {
   "display_name": "Python 3",
   "language": "python",
   "name": "python3"
  },
  "language_info": {
   "codemirror_mode": {
    "name": "ipython",
    "version": 3
   },
   "file_extension": ".py",
   "mimetype": "text/x-python",
   "name": "python",
   "nbconvert_exporter": "python",
   "pygments_lexer": "ipython3",
   "version": "3.13.3"
  }
 },
 "nbformat": 4,
 "nbformat_minor": 5
}
